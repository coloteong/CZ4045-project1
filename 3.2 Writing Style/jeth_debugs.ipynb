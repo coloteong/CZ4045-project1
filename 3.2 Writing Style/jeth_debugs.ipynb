{
 "cells": [
  {
   "cell_type": "code",
   "execution_count": 1,
   "id": "9f7bac02-589e-4226-adf4-87ee21da97e5",
   "metadata": {},
   "outputs": [],
   "source": [
    "def getCNAurl():\n",
    "    url = 'https://www.channelnewsasia.com/'\n",
    "    reqs = requests.get(url)\n",
    "    soup = BeautifulSoup(reqs.text, 'html.parser')\n",
    "\n",
    "    linked_urls = set()\n",
    "\n",
    "    def get_all_links(url):\n",
    "        urls = set()\n",
    "        domain_name = urlparse(url).netloc\n",
    "        soup = BeautifulSoup(requests.get(url).content, \"html.parser\")\n",
    "        for a_tag in soup.findAll(\"a\"):\n",
    "            href = a_tag.attrs.get(\"href\")\n",
    "            if href == \"\" or href is None:\n",
    "                # href empty tag\n",
    "                continue\n",
    "            href = urljoin(url, href)\n",
    "            parsed_href = urlparse(href)\n",
    "            # remove URL GET parameters, URL fragments, etc.\n",
    "            href = parsed_href.scheme + \"://\" + parsed_href.netloc + parsed_href.path\n",
    "            if href in urls:\n",
    "                # already in the set\n",
    "                continue\n",
    "            if domain_name not in href:\n",
    "                # external link\n",
    "                continue\n",
    "            if len(href) > 60:\n",
    "                urls.add(href)\n",
    "        return urls\n",
    "    \n",
    "    urls_cna = get_all_links('https://www.channelnewsasia.com/')\n",
    "    url = random.sample(urls_cna, 1)\n",
    "    print(\"Found URL: \", url[0])\n",
    "    \n",
    "    page1 = requests.get(url[0])\n",
    "    soup1 = BeautifulSoup(page1.content, \"html.parser\")\n",
    "    text = list(soup1.find_all(\"p\"))\n",
    "    cna_text = [txt.get_text() for txt in text]\n",
    "   \n",
    "    return cna_text"
   ]
  },
  {
   "cell_type": "code",
   "execution_count": 12,
   "id": "ea4672dd-8a5e-4154-9acb-2412544936dc",
   "metadata": {},
   "outputs": [],
   "source": [
    "import random\n",
    "import requests\n",
    "from urllib.request import urlopen\n",
    "import urllib.request\n",
    "from urllib.parse import urlparse\n",
    "from urllib.parse import urljoin\n",
    "from bs4 import BeautifulSoup"
   ]
  },
  {
   "cell_type": "code",
   "execution_count": 13,
   "id": "21c367c5-0a99-4112-8883-1e3c1c05094e",
   "metadata": {},
   "outputs": [],
   "source": [
    "url = 'https://www.channelnewsasia.com/'\n",
    "reqs = requests.get(url)    \n",
    "soup = BeautifulSoup(reqs.text, 'html.parser')"
   ]
  },
  {
   "cell_type": "code",
   "execution_count": 14,
   "id": "13c11b69-6e13-4873-ba1c-0c3769f9405f",
   "metadata": {},
   "outputs": [
    {
     "name": "stderr",
     "output_type": "stream",
     "text": [
      "/var/folders/cr/t5frx0313c365t1gjc3269bnl38nv3/T/ipykernel_46182/3616070750.py:32: DeprecationWarning: Sampling from a set deprecated\n",
      "since Python 3.9 and will be removed in a subsequent version.\n",
      "  url = random.sample(urls_cna, 1)\n"
     ]
    },
    {
     "name": "stdout",
     "output_type": "stream",
     "text": [
      "Found URL:  https://www.channelnewsasia.com/world/covid-19-saudi-arabia-mecca-grand-mosque-social-distancing-umrah-haj-2250006\n"
     ]
    },
    {
     "data": {
      "text/plain": [
       "['\\n\\n      World\\n  \\n',\n",
       " '\\n\\n      World\\n  \\n',\n",
       " 'The Grand Mosque in the holy Saudi city of Mecca is operating at full capacity on Oct 17, 2021, with worshippers praying shoulder-to-shoulder for the first time since the COVID-19 pandemic began. (Photo: AFP)',\n",
       " 'MECCA: The Grand Mosque in the Muslim holy city of Mecca in Saudi Arabia operated at full capacity on Sunday (Oct 17), with worshippers praying shoulder-to-shoulder for the first time since the COVID-19 pandemic began.',\n",
       " 'Workers removed floor markings that guide people to social distance in and around the Grand Mosque, which is built around the Kaaba, the black cubic structure towards which Muslims around the world pray.',\n",
       " '\"This is in line with the decision to ease precautionary measures and to allow pilgrims and visitors to the Grand Mosque at full capacity,\" reported the official Saudi Press Agency (SPA).',\n",
       " 'Pictures and footage on Sunday morning showed people praying side by side, making straight rows of worshippers that are formations revered in performing Muslim prayers, for the first time since the pandemic took hold last year.',\n",
       " 'While social distancing measures were lifted, the authorities said that visitors must be fully vaccinated against the\\xa0coronavirus and must continue to wear masks on mosque grounds.',\n",
       " 'Also, the Kaaba remained cordoned off and out of reach.',\n",
       " 'Saudi Arabia announced in August that it will begin accepting vaccinated foreigners wanting to make the umrah pilgrimage.',\n",
       " 'The umrah can be undertaken at any time and usually draws millions from around the globe, as does the annual Haj, which able-bodied Muslims who have the means must perform at least once in their lifetimes.',\n",
       " 'In July, only around 60,000 inoculated residents were allowed to take part in a vastly scaled down form of the annual Haj.',\n",
       " 'The COVID-19 pandemic hugely disrupted both Muslim pilgrimages, which are usually key revenue earners for the kingdom that rake in a combined US$12 billion annually.',\n",
       " \"Hosting the pilgrimages is a matter of prestige for Saudi rulers, for whom the custodianship of Islam's holiest sites is their most powerful source of political legitimacy.\",\n",
       " 'The once-reclusive kingdom began issuing tourist visas permitting foreign visitors to undertake more than just the pilgrimages for the first time in 2019 as part of an ambitious push to revamp its global image and diversify income.',\n",
       " 'Between September 2019 and March 2020, it issued 400,000 of them - only for the pandemic to crush that momentum as borders were closed.',\n",
       " 'But the kingdom is slowly opening up, and has started welcoming vaccinated foreign tourists since Aug 1.',\n",
       " 'Saudi Arabia also announced that fully inoculated sports fans will from Sunday be allowed to attend events at all stadiums and other sports facilities, reported SPA.',\n",
       " 'It has also said that masks in most open spaces are no longer mandatory.',\n",
       " 'Saudi Arabia has registered more than 547,000 COVID-19 cases and 8,760 deaths.',\n",
       " \"\\n      This service is not intended for persons residing in the E.U. By clicking subscribe, I agree to receive news updates and promotional material from Mediacorp and Mediacorp's partners. \\n  \",\n",
       " ' Copyright© Mediacorp 2021. Mediacorp Pte Ltd. All rights reserved. ',\n",
       " \"We know it's a hassle to switch browsers but we want your experience with CNA to be fast, secure and the best it can possibly be.\",\n",
       " 'To continue, upgrade to a supported browser or, for the finest experience, download the mobile app.',\n",
       " 'Upgraded but still having issues? Contact us']"
      ]
     },
     "execution_count": 14,
     "metadata": {},
     "output_type": "execute_result"
    }
   ],
   "source": [
    "getCNAurl()"
   ]
  },
  {
   "cell_type": "code",
   "execution_count": null,
   "id": "0eefc7d2-0020-449b-956c-c043ffa77267",
   "metadata": {},
   "outputs": [],
   "source": []
  }
 ],
 "metadata": {
  "kernelspec": {
   "display_name": "Python 3 (ipykernel)",
   "language": "python",
   "name": "python3"
  },
  "language_info": {
   "codemirror_mode": {
    "name": "ipython",
    "version": 3
   },
   "file_extension": ".py",
   "mimetype": "text/x-python",
   "name": "python",
   "nbconvert_exporter": "python",
   "pygments_lexer": "ipython3",
   "version": "3.9.7"
  }
 },
 "nbformat": 4,
 "nbformat_minor": 5
}
