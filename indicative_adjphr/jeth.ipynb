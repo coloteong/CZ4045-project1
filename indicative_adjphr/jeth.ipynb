{
 "cells": [
  {
   "cell_type": "code",
   "execution_count": 1,
   "metadata": {
    "collapsed": true
   },
   "outputs": [],
   "source": [
    "import spacy\n",
    "import pandas as pd\n",
    "import nltk\n",
    "from nltk.tokenize import sent_tokenize\n",
    "import matplotlib as mpl\n",
    "from get_adj_phrases import get_adjective_phrases"
   ]
  },
  {
   "cell_type": "code",
   "execution_count": 2,
   "outputs": [],
   "source": [
    "nlp = spacy.load(\"en_core_web_sm\")"
   ],
   "metadata": {
    "collapsed": false,
    "pycharm": {
     "name": "#%%\n"
    }
   }
  },
  {
   "cell_type": "code",
   "execution_count": 3,
   "outputs": [],
   "source": [
    "reviews = pd.read_json('../data/reviewSelected100.json', encoding='ISO-8859-1', lines=True)"
   ],
   "metadata": {
    "collapsed": false,
    "pycharm": {
     "name": "#%%\n"
    }
   }
  },
  {
   "cell_type": "code",
   "execution_count": 4,
   "outputs": [
    {
     "data": {
      "text/plain": "                    review_id                 user_id             business_id  \\\n11200  wysFaMq5S88mF6HLxdh3Vw  4nQ7MOkbc5u-DYUOgjiDsg  yEZn1XpLsEC9uBa-X4xAZw   \n11204  z81YK3CXQJb48BU7ZAcf7A  Ht8iGitRu8kynEubcIhsTQ  yEZn1XpLsEC9uBa-X4xAZw   \n11209  tqajcnZA97HlXkIYrdNVlg  -a0XgJCXoJln2Ue_JMnfIQ  yEZn1XpLsEC9uBa-X4xAZw   \n11212  wXz1c5kz0QB2nvZVTnnkIg  F9ivL7-mzKbfnLO1rKUFFQ  yEZn1XpLsEC9uBa-X4xAZw   \n11258  89J69mHgTTF25Ln97ONTrQ  La1ggB37gvq6UWpEWaMtMA  yEZn1XpLsEC9uBa-X4xAZw   \n\n       stars  useful  funny  cool  \\\n11200      4       1      0     0   \n11204      4       7      2     8   \n11209      3       0      0     0   \n11212      5       0      0     0   \n11258      4       2      0     2   \n\n                                                    text                date  \n11200  Cute little vietnamese sandwich place on St De... 2016-03-17 14:29:44  \n11204  Hey Hey, it's the SAMMIES!\\n\\nSuper Yummy here... 2011-11-30 03:26:01  \n11209  Sandwich was good but service was terrible. We... 2016-07-14 18:52:34  \n11212  Super fresh, delicious and cheap Banh Mi in th... 2017-07-28 17:48:01  \n11258  Que ce soit pour leurs délicieux bubbles tea/s... 2012-12-04 21:25:13  ",
      "text/html": "<div>\n<style scoped>\n    .dataframe tbody tr th:only-of-type {\n        vertical-align: middle;\n    }\n\n    .dataframe tbody tr th {\n        vertical-align: top;\n    }\n\n    .dataframe thead th {\n        text-align: right;\n    }\n</style>\n<table border=\"1\" class=\"dataframe\">\n  <thead>\n    <tr style=\"text-align: right;\">\n      <th></th>\n      <th>review_id</th>\n      <th>user_id</th>\n      <th>business_id</th>\n      <th>stars</th>\n      <th>useful</th>\n      <th>funny</th>\n      <th>cool</th>\n      <th>text</th>\n      <th>date</th>\n    </tr>\n  </thead>\n  <tbody>\n    <tr>\n      <th>11200</th>\n      <td>wysFaMq5S88mF6HLxdh3Vw</td>\n      <td>4nQ7MOkbc5u-DYUOgjiDsg</td>\n      <td>yEZn1XpLsEC9uBa-X4xAZw</td>\n      <td>4</td>\n      <td>1</td>\n      <td>0</td>\n      <td>0</td>\n      <td>Cute little vietnamese sandwich place on St De...</td>\n      <td>2016-03-17 14:29:44</td>\n    </tr>\n    <tr>\n      <th>11204</th>\n      <td>z81YK3CXQJb48BU7ZAcf7A</td>\n      <td>Ht8iGitRu8kynEubcIhsTQ</td>\n      <td>yEZn1XpLsEC9uBa-X4xAZw</td>\n      <td>4</td>\n      <td>7</td>\n      <td>2</td>\n      <td>8</td>\n      <td>Hey Hey, it's the SAMMIES!\\n\\nSuper Yummy here...</td>\n      <td>2011-11-30 03:26:01</td>\n    </tr>\n    <tr>\n      <th>11209</th>\n      <td>tqajcnZA97HlXkIYrdNVlg</td>\n      <td>-a0XgJCXoJln2Ue_JMnfIQ</td>\n      <td>yEZn1XpLsEC9uBa-X4xAZw</td>\n      <td>3</td>\n      <td>0</td>\n      <td>0</td>\n      <td>0</td>\n      <td>Sandwich was good but service was terrible. We...</td>\n      <td>2016-07-14 18:52:34</td>\n    </tr>\n    <tr>\n      <th>11212</th>\n      <td>wXz1c5kz0QB2nvZVTnnkIg</td>\n      <td>F9ivL7-mzKbfnLO1rKUFFQ</td>\n      <td>yEZn1XpLsEC9uBa-X4xAZw</td>\n      <td>5</td>\n      <td>0</td>\n      <td>0</td>\n      <td>0</td>\n      <td>Super fresh, delicious and cheap Banh Mi in th...</td>\n      <td>2017-07-28 17:48:01</td>\n    </tr>\n    <tr>\n      <th>11258</th>\n      <td>89J69mHgTTF25Ln97ONTrQ</td>\n      <td>La1ggB37gvq6UWpEWaMtMA</td>\n      <td>yEZn1XpLsEC9uBa-X4xAZw</td>\n      <td>4</td>\n      <td>2</td>\n      <td>0</td>\n      <td>2</td>\n      <td>Que ce soit pour leurs délicieux bubbles tea/s...</td>\n      <td>2012-12-04 21:25:13</td>\n    </tr>\n  </tbody>\n</table>\n</div>"
     },
     "execution_count": 4,
     "metadata": {},
     "output_type": "execute_result"
    }
   ],
   "source": [
    "# get reviews for a random business\n",
    "random_business = reviews.sample(random_state=42)\n",
    "random_business_id = random_business.iloc[0]['business_id']\n",
    "small_business_dataset = reviews.loc[reviews['business_id'] == random_business_id]\n",
    "small_business_dataset.head()"
   ],
   "metadata": {
    "collapsed": false,
    "pycharm": {
     "name": "#%%\n"
    }
   }
  },
  {
   "cell_type": "code",
   "execution_count": 5,
   "outputs": [],
   "source": [
    "small_business_dataset_reviews = list(small_business_dataset['text'])\n",
    "small_business_dataset_reviews = [sent_tokenize(text) for text in small_business_dataset_reviews]\n",
    "small_business_dataset_reviews = [item for sublist in small_business_dataset_reviews for item in sublist]"
   ],
   "metadata": {
    "collapsed": false,
    "pycharm": {
     "name": "#%%\n"
    }
   }
  },
  {
   "cell_type": "code",
   "execution_count": 6,
   "outputs": [
    {
     "data": {
      "text/plain": "['really big',\n 'very reasonable',\n 'really good',\n 'VERY clear',\n 'so good',\n 'so fresh',\n 'So good',\n 'So cheap',\n 'so good',\n 'quite hungry',\n 'very little',\n 'too way sweet',\n 'as just good',\n 'how delicious',\n 'so addictive',\n 'really disappointing',\n 'very sad',\n 'tremendously tasty',\n 'so good',\n 'pretty cheap',\n 'quite cheap',\n 'too lazy',\n 'very healthy',\n 'hard pressed',\n 'as good',\n 'how friendly',\n 'as good',\n 'So tasty',\n 'milky iced',\n 'pretty small',\n 'really excited',\n 'so terrible',\n 'very reasonable',\n 'quite tasty',\n 'very tender',\n 'too many',\n 'cloyingly sweet',\n 'completely foreign',\n 'less strong',\n 'too salty',\n 'so delicious',\n 'Absolutely delicious',\n 'so good',\n 'most familiar',\n 'very unusual',\n 'Definitely best',\n 'real good',\n 'very enjoyable',\n 'very good',\n 'very good',\n 'more flavorful',\n 'too bad',\n 'just average',\n 'just average',\n 'So affordable',\n 'So good',\n 'So worth',\n 'very good',\n 'Very welcoming',\n 'very clean',\n 'that pricey',\n 'very good',\n 'Very smart',\n 'very friendly',\n 'very small',\n 'most legit',\n 'beautifully balanced',\n 'how much',\n 'unbelievably excited',\n 'absolutely solid',\n 'too large',\n 'so bad',\n 'how many',\n 'pretty cheap',\n 'hard pressed',\n 'as good',\n 'that great',\n 'much better',\n 'extremely close',\n 'very big',\n 'that good',\n 'So good',\n 'very impressed',\n 'so professional',\n 'Totally unexpected',\n 'quite good',\n 'pretty fresh',\n 'much pricier',\n 'pretty friendly',\n 'more rich',\n 'really tasty',\n 'too difficult',\n 'of pricey',\n 'around 4ish',\n 'just right',\n 'So much',\n 'how busy',\n 'very solid',\n 'too sweet',\n 'decently sized',\n 'ridiculously sweet',\n 'so glad',\n 'too dry',\n 'really quick',\n 'ever busy',\n 'incredibly affordable',\n 'too much',\n 'too sweet',\n 'very thick',\n 'super good',\n 'much better',\n 'SO good',\n 'so much',\n 'so many',\n 'so great',\n 'very good',\n 'very communicative',\n 'super fresh',\n 'perfectly crispy',\n 'too way sweet',\n 'very nice']"
     },
     "execution_count": 6,
     "metadata": {},
     "output_type": "execute_result"
    }
   ],
   "source": [
    "small_business_phrases = [get_adjective_phrases(text) for text in small_business_dataset_reviews]\n",
    "small_business_phrases = [array for array in small_business_phrases if len(array) > 0]\n",
    "small_business_phrases = [text for sublist in small_business_phrases for text in sublist]\n",
    "small_business_phrases"
   ],
   "metadata": {
    "collapsed": false,
    "pycharm": {
     "name": "#%%\n"
    }
   }
  },
  {
   "cell_type": "code",
   "execution_count": 6,
   "outputs": [],
   "source": [],
   "metadata": {
    "collapsed": false,
    "pycharm": {
     "name": "#%%\n"
    }
   }
  }
 ],
 "metadata": {
  "kernelspec": {
   "display_name": "Python 3",
   "language": "python",
   "name": "python3"
  },
  "language_info": {
   "codemirror_mode": {
    "name": "ipython",
    "version": 2
   },
   "file_extension": ".py",
   "mimetype": "text/x-python",
   "name": "python",
   "nbconvert_exporter": "python",
   "pygments_lexer": "ipython2",
   "version": "2.7.6"
  }
 },
 "nbformat": 4,
 "nbformat_minor": 0
}