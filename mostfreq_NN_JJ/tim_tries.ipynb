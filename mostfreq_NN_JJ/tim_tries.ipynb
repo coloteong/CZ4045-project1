{
 "cells": [
  {
   "cell_type": "markdown",
   "source": [
    "tim tries things here"
   ],
   "metadata": {}
  },
  {
   "cell_type": "code",
   "execution_count": 6,
   "source": [
    "import spacy\n",
    "nlp = spacy.load('en_core_web_sm')\n",
    "# doc = nlp('I got a red candy and an interesting and big book.')\n",
    "doc = nlp('This is a great restaurant overall. Good food, but service is mediocre')\n",
    "\n",
    "\n",
    "noun_adj_pairs = {}\n",
    "for chunk in doc.noun_chunks:\n",
    "    adj = []\n",
    "    noun = \"\"\n",
    "    for tok in chunk:\n",
    "        if tok.pos_ == \"NOUN\":\n",
    "            noun = tok.text\n",
    "        if tok.pos_ == \"ADJ\":\n",
    "            adj.append(tok.text)\n",
    "    if noun:\n",
    "        noun_adj_pairs.update({noun:adj})\n",
    "\n",
    "noun_adj_pairs"
   ],
   "outputs": [
    {
     "output_type": "execute_result",
     "data": {
      "text/plain": [
       "{'restaurant': ['great'], 'food': ['Good'], 'service': []}"
      ]
     },
     "metadata": {},
     "execution_count": 6
    }
   ],
   "metadata": {}
  },
  {
   "cell_type": "code",
   "execution_count": null,
   "source": [],
   "outputs": [],
   "metadata": {}
  }
 ],
 "metadata": {
  "orig_nbformat": 4,
  "language_info": {
   "name": "python",
   "version": "3.8.8",
   "mimetype": "text/x-python",
   "codemirror_mode": {
    "name": "ipython",
    "version": 3
   },
   "pygments_lexer": "ipython3",
   "nbconvert_exporter": "python",
   "file_extension": ".py"
  },
  "kernelspec": {
   "name": "python3",
   "display_name": "Python 3.8.8 64-bit ('venv': venv)"
  },
  "interpreter": {
   "hash": "bf962c24618579b60cfcae8d4bae64b95a9a18091ae4a08faf2b84c4a1bcd43c"
  }
 },
 "nbformat": 4,
 "nbformat_minor": 2
}