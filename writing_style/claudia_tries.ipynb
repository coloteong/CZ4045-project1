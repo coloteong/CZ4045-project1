{
 "cells": [
  {
   "cell_type": "code",
   "execution_count": 3,
   "id": "3e50125f",
   "metadata": {},
   "outputs": [],
   "source": [
    "# Import the libraries needed\n",
    "from bs4 import BeautifulSoup, SoupStrainer\n",
    "from collections import Counter\n",
    "# import httplib2\n",
    "import itertools\n",
    "import matplotlib as plt\n",
    "import nltk\n",
    "from nltk.corpus import stopwords\n",
    "from nltk.probability import FreqDist\n",
    "from nltk.stem import PorterStemmer\n",
    "from nltk.stem import LancasterStemmer\n",
    "from nltk.tokenize import sent_tokenize\n",
    "from nltk.tokenize import word_tokenize\n",
    "from nltk.tokenize import RegexpTokenizer\n",
    "import pandas as pd \n",
    "import random\n",
    "import spacy\n",
    "from spacy import displacy\n",
    "from spacy.lang.en import English\n",
    "import urllib.request\n",
    "from urllib.request import urlopen, Request\n",
    "import random\n",
    "import re\n",
    "import requests"
   ]
  },
  {
   "cell_type": "code",
   "execution_count": 4,
   "id": "be9d9d39",
   "metadata": {},
   "outputs": [],
   "source": [
    "nlp = spacy.load(\"en_core_web_sm\")"
   ]
  },
  {
   "cell_type": "markdown",
   "id": "0e81b680",
   "metadata": {},
   "source": [
    "## Importing Dataset"
   ]
  },
  {
   "cell_type": "code",
   "execution_count": 5,
   "id": "a3ede952",
   "metadata": {},
   "outputs": [],
   "source": [
    "reviews = pd.read_json('../data/reviewSelected100.json', encoding='ISO-8859-1', lines=True)"
   ]
  },
  {
   "cell_type": "markdown",
   "id": "be82a470",
   "metadata": {},
   "source": [
    "### Writing Style"
   ]
  },
  {
   "cell_type": "markdown",
   "id": "036c6762",
   "metadata": {},
   "source": [
    "#### Getting SOF article data (originally random, source code in get_urls.py)"
   ]
  },
  {
   "cell_type": "code",
   "execution_count": 6,
   "id": "aee1c7ed",
   "metadata": {},
   "outputs": [],
   "source": [
    "page1 = requests.get('https://stackoverflow.com/questions/5652693')\n",
    "soup1 = BeautifulSoup(page1.content, \"html.parser\")\n",
    "text = list(soup1.find_all(\"p\"))\n",
    "sof_text1 = [txt.get_text() for txt in text]"
   ]
  },
  {
   "cell_type": "code",
   "execution_count": 7,
   "id": "e8872e33",
   "metadata": {},
   "outputs": [],
   "source": [
    "page1 = requests.get('https://stackoverflow.com/questions/52832519')\n",
    "soup1 = BeautifulSoup(page1.content, \"html.parser\")\n",
    "text = list(soup1.find_all(\"p\"))\n",
    "sof_text2 = [txt.get_text() for txt in text]"
   ]
  },
  {
   "cell_type": "markdown",
   "id": "46743997",
   "metadata": {},
   "source": [
    "#### Getting HWZ article data (originally random, source code in get_urls.py)"
   ]
  },
  {
   "cell_type": "code",
   "execution_count": 8,
   "id": "c24aab9e",
   "metadata": {},
   "outputs": [],
   "source": [
    "page1 = requests.get('https://www.hardwarezone.com.sg/feature-apple-watchos-8-takes-first-serious-step-outdoor-cycling-fitness-workout')\n",
    "soup1 = BeautifulSoup(page1.content, \"html.parser\")\n",
    "text = list(soup1.find_all(\"p\"))\n",
    "hwz_text1 = [txt.get_text() for txt in text]"
   ]
  },
  {
   "cell_type": "code",
   "execution_count": 9,
   "id": "8abb417b",
   "metadata": {},
   "outputs": [],
   "source": [
    "page1 = requests.get('https://www.hardwarezone.com.sg/feature-apple-iphone-13-iphone-13-pro-2021-review-singapore-price-specs')\n",
    "soup1 = BeautifulSoup(page1.content, \"html.parser\")\n",
    "text = list(soup1.find_all(\"p\"))\n",
    "hwz_text2 = [txt.get_text() for txt in text]"
   ]
  },
  {
   "cell_type": "markdown",
   "id": "d0cfddcf",
   "metadata": {},
   "source": [
    "#### Getting CNA article data (originally random, source code in get_urls.py)"
   ]
  },
  {
   "cell_type": "code",
   "execution_count": 10,
   "id": "2aac93ac",
   "metadata": {},
   "outputs": [],
   "source": [
    "cna_text1 = ['\\n\\n      Sport\\n  \\n',\n",
    " '\\n\\n      Sport\\n  \\n',\n",
    " \"Olympique de Marseille's Cengiz Under in action with Lazio's Adam Marusic and Danilo Cataldi. (Photo: REUTERS/Alberto Lingria)\",\n",
    " \"ROME:\\xa0Lazio and Olympique Marseille drew 0-0 to keep alive their hopes of reaching the Europa League knockout stages and Red Star Belgrade stayed on course with a 1-1 draw at Denmark's Midtjylland on Thursday.\",\n",
    " 'Chances went begging at both ends as Lazio striker Ciro Immobile hit the woodwork and had a goal scrapped for marginal offside after a VAR check while Marseille goalkeeper Thomas Strakosha produced a string of saves in Rome.',\n",
    " 'Lazio are second in Group E on four points from three games, behind Galatasaray on goal difference with the Turkish side visiting bottom team Lokomotiv Moscow later on Thursday. Third-placed Marseille have three.',\n",
    " 'Red Star, the 1991 European Cup winners, took the lead against the run of play against Midtjylland in Group F thanks to a 58th-minute volley from midfielder Mirko Ivanic.',\n",
    " \"The home side missed chances in a lop-sided first half as goalkeeper Milan Borjan kept the visitors afloat but Nikolas Dyhr equalised in the 78th minute after Victor Lind's shot cannoned off the woodwork.\",\n",
    " \"Red Star stayed top on seven points from three games, one ahead of Portugal's Braga who won 1-0 at Bulgaria's Ludogorets. Midtjylland have two points and Ludogorets one.\",\n",
    " \"Rapid Vienna rekindled their hopes of advancing with a 2-1 home win over Dinamo Zagreb, putting them level with the Croatian champions on three points behind Group H leaders West Ham United who host Belgium's Genk later.\",\n",
    " 'Marco Gruell fired Rapid ahead and defender Maximilian Hoffman sealed the win after Mislav Orsic had equalised in an action-packed first half.',\n",
    " 'Royal Antwerp took an early lead before fighting back to earn a 2-2 draw at Fenerbahce, whose Ecuador winger Enner Valencia scored twice and missed a penalty in Group D.',\n",
    " 'The result did neither side any favours as they stayed behind the top two, with leaders Olympiakos visiting second-placed Eintracht Frankfurt later.',\n",
    " \"In Group G, front-runners Bayer Leverkusen and Real Betis stayed on course to advance after their 1-1 draw kept them level on seven points ahead of third-placed Celtic, who have three after Tuesday's 2-0 home win over Ferencvaros.\",\n",
    " \"\\n      This service is not intended for persons residing in the E.U. By clicking subscribe, I agree to receive news updates and promotional material from Mediacorp and Mediacorp's partners. \\n  \",\n",
    " ' Copyright© Mediacorp 2021. Mediacorp Pte Ltd. All rights reserved. ',\n",
    " \"We know it's a hassle to switch browsers but we want your experience with CNA to be fast, secure and the best it can possibly be.\",\n",
    " 'To continue, upgrade to a supported browser or, for the finest experience, download the mobile app.',\n",
    " 'Upgraded but still having issues? Contact us']"
   ]
  },
  {
   "cell_type": "code",
   "execution_count": 11,
   "id": "043144be",
   "metadata": {},
   "outputs": [],
   "source": [
    "cna_text2 = ['\\n\\n      World\\n  \\n',\n",
    " '\\n\\n      World\\n  \\n',\n",
    " 'A broken-off minaret of Xinqu Mosque lies near a Chinese national flag near the house of worship in Changji outside Urumqi, Xinjiang Uyghur Autonomous Region, China, May 6, 2021. (Photo: REUTERS/Thomas Peter)',\n",
    " \"UNITED NATIONS: Dozens of countries kept up pressure on China at the United Nations on Thursday (Oct 21) over accusations of rights abuses against Uyghur Muslims and other minorities in the country's Xinjiang region, sparking an angry response from China's UN\\xa0envoy.\",\n",
    " 'Confrontations over Xinjiang between China and mostly Western countries, including the United States, have become a regular occurrence at both the UN\\xa0General Assembly in New York and the UN\\xa0Human Rights Council in Geneva.',\n",
    " 'In a statement - part of which was read by French UN\\xa0Ambassador Nicolas de Rivière to the General Assembly rights committee - 43 countries voiced concern about increasing \"reports of widespread and systematic human rights violations,\" accusing China of detaining more than 1 million people in camps.',\n",
    " 'They said the abuse accusations included \"reports documenting torture or cruel, inhuman and degrading treatment or punishment, forced sterilisation, sexual and gender-based violence, and forced separation of children\".',\n",
    " 'Beijing denies all allegations of abuse of Uyghurs and describes the camps as vocational training facilities to combat religious extremism.',\n",
    " \"China's UN\\xa0ambassador, Zhang Jun, hit back in a statement partly read to the rights committee on Thursday.\",\n",
    " '\"To the US\\xa0and a few other countries: Your desperate attempts to cover up your own terrible human rights record will not work,\" he said.',\n",
    " '\"No matter how many times repeated, lies are still lies,\" he added. \"You are using human rights as a pretext for political\\xa0manoeuvring to provoke confrontation.\"',\n",
    " 'UN\\xa0human rights chief Michelle Bachelet has been negotiating access to Xinjiang since September 2018. She told the Human Rights Council in June that she hoped to agree on terms for a visit this year to examine reports of serious violations against Muslim Uyghurs.',\n",
    " 'At the Human Rights Council in June, more than 40 countries urged China to give Bachelet immediate access.',\n",
    " \"\\n      This service is not intended for persons residing in the E.U. By clicking subscribe, I agree to receive news updates and promotional material from Mediacorp and Mediacorp's partners. \\n  \",\n",
    " ' Copyright© Mediacorp 2021. Mediacorp Pte Ltd. All rights reserved. ',\n",
    " \"We know it's a hassle to switch browsers but we want your experience with CNA to be fast, secure and the best it can possibly be.\",\n",
    " 'To continue, upgrade to a supported browser or, for the finest experience, download the mobile app.',\n",
    " 'Upgraded but still having issues? Contact us']"
   ]
  },
  {
   "cell_type": "markdown",
   "id": "241bcdab",
   "metadata": {},
   "source": [
    "##### Cleaning SOF text data"
   ]
  },
  {
   "cell_type": "code",
   "execution_count": 12,
   "id": "9a8ff76e",
   "metadata": {},
   "outputs": [],
   "source": [
    "sof_text1 = sof_text1[4:]\n",
    "sof_text1 = sof_text1[:-10]\n",
    "temp_list = []\n",
    "for line in sof_text1:\n",
    "    temp_list += sent_tokenize(line)\n",
    "sof_text1 = temp_list"
   ]
  },
  {
   "cell_type": "code",
   "execution_count": 13,
   "id": "678f4259",
   "metadata": {},
   "outputs": [
    {
     "data": {
      "text/plain": [
       "[\"Let's say I have the XQuery code below:\",\n",
       " 'Can I use a counter, to count how many my code will enter inside the second for loop?',\n",
       " 'I tried this:',\n",
       " 'but I got compile errors.',\n",
       " 'I also I need to sum some constraints like this:',\n",
       " \"but of course this didn't work either :(.\",\n",
       " 'Any suggestions will be highly appreciated.',\n",
       " 'Also, can you suggest a good book/tutorial/site for doing such stuff?',\n",
       " \"You don't need it very often, but if you really do need a counter variable inside an XQuery for expression (analogous to position() in an xsl:for-each) you can use an at variable\",\n",
       " \"I don't think you have understood the basics of declarative paradigm.\",\n",
       " 'Total count and sum would be:',\n",
       " 'Partial count and sum would be:',\n",
       " 'To Display counter in loop the best and easier way is to add at $pos in your for loop.',\n",
       " '$pos will work as a counter.',\n",
       " 'Code Snippet :',\n",
       " 'Output:',\n",
       " \"Here is another solution, if you don't want to count or act on every item of a collection, but you want to count/act only, if a certain condition applies.\",\n",
       " 'In that case you might remember the functional programming paradigm of XQuery and implement this counting/acting by using recursive function calls:',\n",
       " 'The more easier way would be the usage of an appropriate XPath expression:',\n",
       " 'or even',\n",
       " 'The recursive solution might be quite helpful, if you want to implement something more complex with XQuery...']"
      ]
     },
     "execution_count": 13,
     "metadata": {},
     "output_type": "execute_result"
    }
   ],
   "source": [
    "sof_text1"
   ]
  },
  {
   "cell_type": "code",
   "execution_count": 14,
   "id": "43dd083a",
   "metadata": {},
   "outputs": [],
   "source": [
    "sof_text2 = sof_text2[4:]\n",
    "sof_text2 = sof_text2[:-10]\n",
    "temp_list = []\n",
    "for line in sof_text2:\n",
    "    temp_list += sent_tokenize(line)\n",
    "sof_text2 = temp_list"
   ]
  },
  {
   "cell_type": "code",
   "execution_count": 15,
   "id": "cba87cff",
   "metadata": {},
   "outputs": [
    {
     "data": {
      "text/plain": [
       "['In Oracle SQL Developer 3.1.07 The two subqueries below run correctly on their own.',\n",
       " \"All I'm trying to do is union them together but Oracle gives an ORA-12704: charcter set mismatch error.\",\n",
       " \"I have checked similar posts to check the UNION syntax and I don't understand where the error is coming from.\",\n",
       " 'The select statements are selecting fields from the same columns in both queries so there should be no data type problems.',\n",
       " 'Help would be greatly appreciated!',\n",
       " 'Ok so credit to my manager Mr K who actually solved this.',\n",
       " 'The problem was with the THIRDPARTY column which is the same data type in both subqueries.',\n",
       " 'In order to solve the problem we used CAST (field AS VARCHAR(3)) in both subqueries.',\n",
       " 'We identified the problem field by stripping all but the first field out of the queries and then adding them back in one by one until it broke.',\n",
       " \"What we still don't understand is why this error occured so any information on this would still be apprieciated.\",\n",
       " 'Here is the resolved code:']"
      ]
     },
     "execution_count": 15,
     "metadata": {},
     "output_type": "execute_result"
    }
   ],
   "source": [
    "sof_text2"
   ]
  },
  {
   "cell_type": "markdown",
   "id": "205317e2",
   "metadata": {},
   "source": [
    "##### Cleaning CNA text data"
   ]
  },
  {
   "cell_type": "code",
   "execution_count": 16,
   "id": "4c295fe5",
   "metadata": {},
   "outputs": [],
   "source": [
    "cna_text1 = cna_text1[2:]\n",
    "cna_text1 = cna_text1[:-7]\n",
    "temp_list = []\n",
    "for line in cna_text1:\n",
    "    temp_list += sent_tokenize(line)\n",
    "cna_text1 = temp_list"
   ]
  },
  {
   "cell_type": "code",
   "execution_count": 17,
   "id": "bbb36428",
   "metadata": {},
   "outputs": [
    {
     "data": {
      "text/plain": [
       "[\"Olympique de Marseille's Cengiz Under in action with Lazio's Adam Marusic and Danilo Cataldi.\",\n",
       " '(Photo: REUTERS/Alberto Lingria)',\n",
       " \"ROME:\\xa0Lazio and Olympique Marseille drew 0-0 to keep alive their hopes of reaching the Europa League knockout stages and Red Star Belgrade stayed on course with a 1-1 draw at Denmark's Midtjylland on Thursday.\",\n",
       " 'Chances went begging at both ends as Lazio striker Ciro Immobile hit the woodwork and had a goal scrapped for marginal offside after a VAR check while Marseille goalkeeper Thomas Strakosha produced a string of saves in Rome.',\n",
       " 'Lazio are second in Group E on four points from three games, behind Galatasaray on goal difference with the Turkish side visiting bottom team Lokomotiv Moscow later on Thursday.',\n",
       " 'Third-placed Marseille have three.',\n",
       " 'Red Star, the 1991 European Cup winners, took the lead against the run of play against Midtjylland in Group F thanks to a 58th-minute volley from midfielder Mirko Ivanic.',\n",
       " \"The home side missed chances in a lop-sided first half as goalkeeper Milan Borjan kept the visitors afloat but Nikolas Dyhr equalised in the 78th minute after Victor Lind's shot cannoned off the woodwork.\",\n",
       " \"Red Star stayed top on seven points from three games, one ahead of Portugal's Braga who won 1-0 at Bulgaria's Ludogorets.\",\n",
       " 'Midtjylland have two points and Ludogorets one.',\n",
       " \"Rapid Vienna rekindled their hopes of advancing with a 2-1 home win over Dinamo Zagreb, putting them level with the Croatian champions on three points behind Group H leaders West Ham United who host Belgium's Genk later.\",\n",
       " 'Marco Gruell fired Rapid ahead and defender Maximilian Hoffman sealed the win after Mislav Orsic had equalised in an action-packed first half.',\n",
       " 'Royal Antwerp took an early lead before fighting back to earn a 2-2 draw at Fenerbahce, whose Ecuador winger Enner Valencia scored twice and missed a penalty in Group D.']"
      ]
     },
     "execution_count": 17,
     "metadata": {},
     "output_type": "execute_result"
    }
   ],
   "source": [
    "cna_text1"
   ]
  },
  {
   "cell_type": "code",
   "execution_count": 18,
   "id": "cfa86aa8",
   "metadata": {},
   "outputs": [],
   "source": [
    "cna_text2 = cna_text2[2:]\n",
    "cna_text2 = cna_text2[:-8]\n",
    "temp_list = []\n",
    "for line in cna_text2:\n",
    "    temp_list += sent_tokenize(line)\n",
    "cna_text2 = temp_list"
   ]
  },
  {
   "cell_type": "code",
   "execution_count": 19,
   "id": "adc08c7f",
   "metadata": {},
   "outputs": [
    {
     "data": {
      "text/plain": [
       "['A broken-off minaret of Xinqu Mosque lies near a Chinese national flag near the house of worship in Changji outside Urumqi, Xinjiang Uyghur Autonomous Region, China, May 6, 2021.',\n",
       " '(Photo: REUTERS/Thomas Peter)',\n",
       " \"UNITED NATIONS: Dozens of countries kept up pressure on China at the United Nations on Thursday (Oct 21) over accusations of rights abuses against Uyghur Muslims and other minorities in the country's Xinjiang region, sparking an angry response from China's UN\\xa0envoy.\",\n",
       " 'Confrontations over Xinjiang between China and mostly Western countries, including the United States, have become a regular occurrence at both the UN\\xa0General Assembly in New York and the UN\\xa0Human Rights Council in Geneva.',\n",
       " 'In a statement - part of which was read by French UN\\xa0Ambassador Nicolas de Rivière to the General Assembly rights committee - 43 countries voiced concern about increasing \"reports of widespread and systematic human rights violations,\" accusing China of detaining more than 1 million people in camps.',\n",
       " 'They said the abuse accusations included \"reports documenting torture or cruel, inhuman and degrading treatment or punishment, forced sterilisation, sexual and gender-based violence, and forced separation of children\".',\n",
       " 'Beijing denies all allegations of abuse of Uyghurs and describes the camps as vocational training facilities to combat religious extremism.',\n",
       " \"China's UN\\xa0ambassador, Zhang Jun, hit back in a statement partly read to the rights committee on Thursday.\",\n",
       " '\"To the US\\xa0and a few other countries: Your desperate attempts to cover up your own terrible human rights record will not work,\" he said.']"
      ]
     },
     "execution_count": 19,
     "metadata": {},
     "output_type": "execute_result"
    }
   ],
   "source": [
    "cna_text2"
   ]
  },
  {
   "cell_type": "markdown",
   "id": "7b790273",
   "metadata": {},
   "source": [
    "##### Cleaning HWZ text data"
   ]
  },
  {
   "cell_type": "code",
   "execution_count": 20,
   "id": "d7fef1dc",
   "metadata": {},
   "outputs": [],
   "source": [
    "hwz_text1 = hwz_text1[:-5]\n",
    "temp_list = []\n",
    "for line in hwz_text1:\n",
    "    temp_list += sent_tokenize(line)\n",
    "hwz_text1 = temp_list"
   ]
  },
  {
   "cell_type": "code",
   "execution_count": 21,
   "id": "a8d2d5ce",
   "metadata": {},
   "outputs": [
    {
     "data": {
      "text/plain": [
       "['When Apple revealed at its California Streaming event that its watchOS 8 update (available now) would bring with it some major quality of life upgrades for its Outdoor Cycle workout, cyclists like me sat up.',\n",
       " 'Up until now, tracking features on the Apple watches for cycling have been pretty limited - functions like auto-pause and ride detection that most of us cyclists take for granted on our Garmin or Wahoo computers are absent.',\n",
       " 'But watchOS 8 will change all of these and then some.',\n",
       " 'That Apple showed and focused on a mountain biker during the presentation is a watershed moment for cyclists using an Apple Watch.',\n",
       " 'It’s possibly the only major fitness segment that the company hasn’t quite dominate like it did with other mainstream fitness areas like jogging and yoga.',\n",
       " 'With cycling facing its biggest “bike boom” during the pandemic (be prepared to wait for months if you’re looking to get a foldie or a roadbike now), it’s timely for Apple to jazz up the latest watchOS with sensible cycling functions that meet the demands of cyclists.',\n",
       " '“With watchOS 8, we just wanted to do more to improve the experience,” Julz Arney, Director of Apple’s Fitness for Health Technologies told me over a video call.',\n",
       " '“And this year just felt like the right time to pull together features that not just people who might consider themselves as pro cyclists, but also everyone who rides a bike could enjoy.”',\n",
       " 'Essentially, watchOS 8 turns your Apple Watch into a cycling computer of sort with the improved Outdoor Cycling workout.',\n",
       " \"Now it can automatically detect when you begin cycling outside and remind you to start a workout based on advanced algorithms that analyse data from the watch’s sensors – the GPS, heart rate, accelerometer and gyroscope – to understand when you're riding a bike.\",\n",
       " \"To prevent false starts (and Strava cheats), it also recognizes an elevated heart rate due to pedaling, which can help the watch distinguish whether you're truly riding a bike or traveling in a slow-moving car.\",\n",
       " 'Julz also revealed that the watch’s magnetometer, which is basically the compass, helps detect any change in orientation as well.',\n",
       " 'This detects subtle swaying, a natural cycling movement, and helps to confirm that you’re riding a bicycle before sending an outdoor cycling workout reminder.',\n",
       " 'Then there’s self-explanatory auto pause and resume feature – a blessing for OCD cyclists who must constantly pause their workout and watch out for traffic at the same time.',\n",
       " 'It’s not ground-breaking, to be certain but it’s a handy feature for anyone who bikes in dense cities like Singapore.',\n",
       " 'But perhaps the most critical update is the improved fall detection.',\n",
       " 'Apple introduced fall detection three years ago for their watches and it quickly became an impactful feature for many users, especially the elderlies.',\n",
       " 'With the new update, the Apple Watch will now be able to recognise the unique motion and impact of falls from a bike, in a bid to keep users safe when out on the roads.',\n",
       " \"“We realized that falls can be incredibly detrimental not just in everyday activity, but also and maybe especially when you're being active while exercising.\",\n",
       " \"When you're on your bike, whether you take a turn too tightly, hit something on the road, or perhaps forgetting to unclip at a traffic stop, falls from cycling are no small thing,” said Julz.\",\n",
       " \"“So, we've updated fall detection for cycling by optimising and tuning the algorithms to recognize that unique motion and impact of falls from a bike.”\",\n",
       " 'To do this, Apple conducted extensive studies to validate the motion and impact of falls that happened during an outdoor cycling workout.',\n",
       " 'So, just like how fall detection has always worked, a hard fall alert is sound off to a user’s Apple Watch following a significant impact, and you can either dismiss it, or initiate a call to emergency services right from the notification.',\n",
       " \"If Apple Watch detects that you're not moving, and you can't communicate with emergency services, it plays an audio message when the call connects, so you can be sure to get help.\",\n",
       " 'A real lifesaver should the unthinkable happen.',\n",
       " 'The best part of it all is that you don’t even need the announced but yet-to-be-launched Apple Watch Series 7.',\n",
       " 'While watchOS 8 will require an iPhone 6S or later, and running on iOS 14, it will be compatible with all Apple watches, including the Apple Watch 6\\xa0and Apple Watch SE, although fall detection is only supported from Apple Watch Series 4\\xa0onwards.',\n",
       " 'That said, watchOS 8 is still not ready to replace your Garmin or Wahoo cycling computer – yet.',\n",
       " 'Apple Watch cannot measure other key readings, such as cadence and power.',\n",
       " 'Julz explained to me that the company have heard from a lot of customers, mostly customers who consider themselves a\\xa0pro level or pro recreational level that they would love for their additional sensors\\xa0such as a cadence meter or a power meter, or even their head mount, connect directly to Apple Watch.',\n",
       " '“They have asked if, you know, we would open up the Bluetooth profiles in order to do that.',\n",
       " \"We don't have anything to announce around that right now.\",\n",
       " \"But it's exciting that so many cyclists are motivated by their Apple Watch and we hope that this will just be the beginning of what we could do for people who love to ride their bike,” Julz said, as we finished off our video call.\",\n",
       " 'Apple watchOS 8 is available as an update now.',\n",
       " 'Have feedback on the article for the editorial team?',\n",
       " 'You can reach out to them here.',\n",
       " 'No upfront, no interest - check out StarHub’s new EasyGo option!']"
      ]
     },
     "execution_count": 21,
     "metadata": {},
     "output_type": "execute_result"
    }
   ],
   "source": [
    "hwz_text1"
   ]
  },
  {
   "cell_type": "code",
   "execution_count": 22,
   "id": "7a692ffa",
   "metadata": {},
   "outputs": [],
   "source": [
    "hwz_text2 = hwz_text2[:-5]\n",
    "temp_list = []\n",
    "for line in hwz_text2:\n",
    "    temp_list += sent_tokenize(line)\n",
    "hwz_text2 = temp_list"
   ]
  },
  {
   "cell_type": "code",
   "execution_count": 23,
   "id": "5224d823",
   "metadata": {},
   "outputs": [
    {
     "data": {
      "text/plain": [
       "[\"Note: This review was first published on 21 September 2021 and it's republished now because the new iPhones are available in retail.\",\n",
       " 'Despite reservations about the name, Apple has stuck with what’s sensible and went with the number 13 for their latest iPhones.',\n",
       " 'You might have already heard, Apple’s newest iPhones are the iPhone 13 and iPhone 13 Mini, and the iPhone 13 Pro and iPhone 13 Pro Max .',\n",
       " 'No surprises, there.',\n",
       " 'However, there are some profound changes compared to last year’s lineup and that could affect your purchasing decision.',\n",
       " 'Sit down, grab a cuppa, this is a long one.',\n",
       " 'Last year’s iPhones\\xa0got\\xa0a major redesign so we knew we weren’t going to be getting phones that look drastically different this year.',\n",
       " 'The basic recipe for this year’s iPhones is nearly identical to last year’s models.',\n",
       " 'In fact, unless you know what to look out for, you’d be hard-pressed to tell the difference between this year’s models and last year’s.',\n",
       " 'They all have flat sides and the iPhone 13 and 13 Mini have aluminium bodies while the iPhone 13 Pro and 13 Pro Max have stainless steel bodies.',\n",
       " 'The sides of the iPhone 13 and 13 Mini are matte, whereas the iPhone 13 Pro and 13 Pro Max have highly polished sides that are fingerprint and dirt magnets.',\n",
       " 'Round the back, the regular iPhones continue to have clear glossy glass backs while the Pro iPhones have matte glass backs.',\n",
       " 'Speaking of glass, the front of the phones are protected by Ceramic Shield, a glass that was developed with Corning to be the strongest smartphone glass ever – again, the same as last year’s models.',\n",
       " 'And since we are on the topic of protection, the IP ratings of the phones are unchanged, so all of this year’s iPhones are rated IP68 which means they can stay submerged in up to six metres of water for up to 30 minutes.',\n",
       " 'Buttons and ports are also all carried over, which means the Lightning port\\xa0is sticking around for another year.',\n",
       " 'Now, I have strong thoughts about the Lightning port.',\n",
       " 'At this point, the Lightning port should make way for USB-C.',\n",
       " 'Previously, a point could be made for compatibility but since all new Macs and nearly all new\\xa0iPads rely on USB-C, it’s time that iPhones do the same.',\n",
       " 'USB-C not only enables faster charging, it also transfers data quicker, and works with a greater variety of accessories.',\n",
       " 'It’s funny because Apple talks about all the benefits of USB-C in its Mac and iPad events and yet puts Lightning ports on their phones.',\n",
       " 'Alright, rant over.',\n",
       " 'Overall dimensions are slightly different.',\n",
       " 'Heights and widths are identical but the new iPhones all gain 0.25mm in thickness.',\n",
       " 'This is to accommodate the larger battery.',\n",
       " 'And because there’s a larger battery inside, the weight has gone up a bit.',\n",
       " 'Is it noticeable?',\n",
       " 'Sure, but only if you hold them next to each other.',\n",
       " 'Readers who have invested in expensive phone cases, however, should note that the camera bump is larger to put up the new sensors and lenses (more on this in the photography section).',\n",
       " 'So yes, if you are upgrading from last year’s phones to this year’s, these differences are enough that you will need new cases for these phones, even if you think they can stretch to accommodate the extra thickness.',\n",
       " 'Another minor difference is the notch on the display.',\n",
       " 'The TrueDepth camera system is unchanged and continues to take great 12-megapixel photos and offer Face ID authentication, but Apple has shrunk the system so the notch is 20% smaller.',\n",
       " 'Honestly, I didn’t really notice the difference until I placed it next to an older iPhone.',\n",
       " 'There are new colours to choose from.',\n",
       " 'The iPhone 13 and 13 Mini are available five colours: PRODUCT(RED), Starlight, Midnight, Blue, and Pink.',\n",
       " 'The units I have are the iPhone 13 in Pink and the iPhone 13 Mini in Midnight.',\n",
       " 'Pink is a very lovely soft shade of pink that I think can be more accurately described as pastel pink.',\n",
       " 'Midnight, on the other hand, can be easily passed off as black.',\n",
       " 'Unfortunately, I couldn’t get to see the entire lineup so I can’t comment on the other colours.',\n",
       " 'The iPhone 13 Pro and 13 Pro Max are available in four colours.',\n",
       " 'Graphite, Gold, and Silver make their return and joining them this year is the new Sierra Blue finish.',\n",
       " 'Like last year’s models, the highly polished finish is achieved using a physical vapour deposition process (PVD).',\n",
       " 'And according to Apple, the Sierra Blue model required an entirely new process that involves placing multiple layers of nanometer-scale metallic ceramics to achieve the colour.',\n",
       " 'As for the Pro iPhones, the units I have are the iPhone 13 Pro in Gold and the iPhone 13 Pro Max in Sierra Blue.',\n",
       " \"This year’s Gold finish is slightly different from last year's.\",\n",
       " \"The polished sides are indistinguishable from one another but the glass back of this year's model is a richer darker shade of gold.\",\n",
       " \"As for Sierra Blue, it appears to be a lighter shade of last year's Pacific Blue.\",\n",
       " 'Overall, fans of last year’s new design will love this year’s phones.',\n",
       " 'But even if you don’t fancy the squared-off edges and flat sides, the outstanding build quality of these phones is undeniable.',\n",
       " 'Yes, these phones are expensive but they most definitely look and feel every bit as much as they cost.',\n",
       " 'Have feedback on the article for the editorial team?',\n",
       " 'You can reach out to them here.',\n",
       " 'No upfront, no interest - check out StarHub’s new EasyGo option!']"
      ]
     },
     "execution_count": 23,
     "metadata": {},
     "output_type": "execute_result"
    }
   ],
   "source": [
    "hwz_text2"
   ]
  },
  {
   "cell_type": "markdown",
   "id": "60eea11d",
   "metadata": {},
   "source": [
    "##### First word in sentence capitalized?"
   ]
  },
  {
   "cell_type": "code",
   "execution_count": 24,
   "id": "11d465b2",
   "metadata": {},
   "outputs": [],
   "source": [
    "def first_word_cap(text):\n",
    "    count=0\n",
    "    uppercount=0\n",
    "    for sent in text:\n",
    "        if sent[0].isupper():\n",
    "            uppercount+=1\n",
    "        count+=1\n",
    "    return uppercount/count"
   ]
  },
  {
   "cell_type": "code",
   "execution_count": 25,
   "id": "492154e4",
   "metadata": {},
   "outputs": [
    {
     "name": "stdout",
     "output_type": "stream",
     "text": [
      "Fraction of first letter being capitalised for sof_text1:  0.8095238095238095\n",
      "Fraction of first letter being capitalised for sof_text1:  1.0\n",
      "Fraction of first letter being capitalised for hwz_text1:  0.8648648648648649\n",
      "Fraction of first letter being capitalised for hwz_text2:  1.0\n",
      "Fraction of first letter being capitalised for cna_text1:  0.9230769230769231\n",
      "Fraction of first letter being capitalised for cna_text2:  0.7777777777777778\n"
     ]
    }
   ],
   "source": [
    "print(\"Fraction of first letter being capitalised for sof_text1: \", first_word_cap(sof_text1))\n",
    "print(\"Fraction of first letter being capitalised for sof_text1: \", first_word_cap(sof_text2))\n",
    "print(\"Fraction of first letter being capitalised for hwz_text1: \", first_word_cap(hwz_text1))\n",
    "print(\"Fraction of first letter being capitalised for hwz_text2: \", first_word_cap(hwz_text2))\n",
    "print(\"Fraction of first letter being capitalised for cna_text1: \", first_word_cap(cna_text1))\n",
    "print(\"Fraction of first letter being capitalised for cna_text2: \", first_word_cap(cna_text2))"
   ]
  },
  {
   "cell_type": "markdown",
   "id": "fac6f9d3",
   "metadata": {},
   "source": [
    "##### Length of articles?"
   ]
  },
  {
   "cell_type": "code",
   "execution_count": 26,
   "id": "f2e3133f",
   "metadata": {},
   "outputs": [
    {
     "name": "stdout",
     "output_type": "stream",
     "text": [
      "No of sentences in sof_text1:  21\n",
      "No of sentences in sof_text2:  11\n",
      "No of sentences in hwz_text1:  37\n",
      "No of sentences in hwz_text2:  52\n",
      "No of sentences in cna_text1:  13\n",
      "No of sentences in cna_text2:  9\n"
     ]
    }
   ],
   "source": [
    "print(\"No of sentences in sof_text1: \", len(sof_text1))\n",
    "print(\"No of sentences in sof_text2: \", len(sof_text2))\n",
    "print(\"No of sentences in hwz_text1: \", len(hwz_text1))\n",
    "print(\"No of sentences in hwz_text2: \", len(hwz_text2))\n",
    "print(\"No of sentences in cna_text1: \", len(cna_text1))\n",
    "print(\"No of sentences in cna_text2: \", len(cna_text2))"
   ]
  },
  {
   "cell_type": "markdown",
   "id": "da1e1f48",
   "metadata": {},
   "source": [
    "##### Proper nouns capitalised?"
   ]
  },
  {
   "cell_type": "code",
   "execution_count": 27,
   "id": "3b79d0d0",
   "metadata": {},
   "outputs": [],
   "source": [
    "def prop_nouns_cap(text):\n",
    "    tagged = []\n",
    "    uppercount = 0\n",
    "    count = 0\n",
    "    for sentence in text:\n",
    "        tagged.append(nlp(sentence))\n",
    "    for tag in tagged:\n",
    "        for token in tag:\n",
    "            if token.pos_ == 'PROPN':\n",
    "                if token.text[0].isupper():\n",
    "                    uppercount += 1\n",
    "                count += 1\n",
    "    return uppercount/count"
   ]
  },
  {
   "cell_type": "code",
   "execution_count": 28,
   "id": "6c6d08b7",
   "metadata": {},
   "outputs": [
    {
     "name": "stdout",
     "output_type": "stream",
     "text": [
      "Fraction of proper nouns capitalised in sof_text1:  0.8888888888888888\n",
      "Fraction of proper nouns capitalised in sof_text2:  0.8571428571428571\n",
      "Fraction of proper nouns capitalised in hwz_text1:  0.8472222222222222\n",
      "Fraction of proper nouns capitalised in hwz_text2:  0.7126436781609196\n",
      "Fraction of proper nouns capitalised in cna_text1:  1.0\n",
      "Fraction of proper nouns capitalised in cna_text2:  0.9473684210526315\n"
     ]
    }
   ],
   "source": [
    "print('Fraction of proper nouns capitalised in sof_text1: ', prop_nouns_cap(sof_text1))\n",
    "print('Fraction of proper nouns capitalised in sof_text2: ', prop_nouns_cap(sof_text2))\n",
    "print('Fraction of proper nouns capitalised in hwz_text1: ', prop_nouns_cap(hwz_text1))\n",
    "print('Fraction of proper nouns capitalised in hwz_text2: ', prop_nouns_cap(hwz_text2))\n",
    "print('Fraction of proper nouns capitalised in cna_text1: ', prop_nouns_cap(cna_text1))\n",
    "print('Fraction of proper nouns capitalised in cna_text2: ', prop_nouns_cap(cna_text2))"
   ]
  },
  {
   "cell_type": "markdown",
   "id": "1b0b6570",
   "metadata": {},
   "source": [
    "###### What kind of proper nouns used?"
   ]
  },
  {
   "cell_type": "markdown",
   "id": "116dd58f",
   "metadata": {},
   "source": [
    "1. Stack Overflow"
   ]
  },
  {
   "cell_type": "code",
   "execution_count": 29,
   "id": "ff8d612a",
   "metadata": {},
   "outputs": [
    {
     "name": "stdout",
     "output_type": "stream",
     "text": [
      "XQuery 4\n",
      "counter 4\n",
      "code 3\n",
      "loop 3\n",
      "subqueries 3\n",
      "error 3\n",
      "problem 3\n",
      "field 3\n",
      "variable 2\n",
      "expression 2\n",
      "paradigm 2\n",
      "count 2\n",
      "sum 2\n",
      "way 2\n",
      "pos 2\n",
      "solution 2\n",
      "Oracle 2\n",
      "queries 2\n",
      "data 2\n",
      "type 2\n",
      "compile 1\n",
      "errors 1\n",
      "constraints 1\n",
      "course 1\n",
      "suggestions 1\n",
      "book 1\n",
      "tutorial 1\n",
      "site 1\n",
      "stuff 1\n",
      "position 1\n",
      "xsl 1\n",
      "basics 1\n",
      "Display 1\n",
      "Code 1\n",
      "Snippet 1\n",
      "Output 1\n",
      "item 1\n",
      "collection 1\n",
      "condition 1\n",
      "case 1\n",
      "programming 1\n",
      "counting 1\n",
      "function 1\n",
      "calls 1\n",
      "usage 1\n",
      "XPath 1\n",
      "SQL 1\n",
      "Developer 1\n",
      "3.1.07 1\n",
      "run 1\n",
      "charcter 1\n",
      "set 1\n",
      "mismatch 1\n",
      "posts 1\n",
      "UNION 1\n",
      "syntax 1\n",
      "statements 1\n",
      "fields 1\n",
      "columns 1\n",
      "problems 1\n",
      "Help 1\n",
      "credit 1\n",
      "manager 1\n",
      "Mr 1\n",
      "K 1\n",
      "THIRDPARTY 1\n",
      "column 1\n",
      "order 1\n",
      "CAST 1\n",
      "information 1\n"
     ]
    }
   ],
   "source": [
    "sof_tagged = []\n",
    "sof_noun_dict = {}\n",
    "for sentence in sof_text1:\n",
    "    sof_tagged.append(nlp(sentence))\n",
    "for sentence in sof_text2:\n",
    "    sof_tagged.append(nlp(sentence))\n",
    "for tagged in sof_tagged:\n",
    "    for token in tagged:\n",
    "        if token.pos_ in (\"PROPN\", \"NOUN\"):\n",
    "            if token.text in sof_noun_dict.keys():\n",
    "                sof_noun_dict[token.text] += 1\n",
    "            else:\n",
    "                sof_noun_dict[token.text] = 1\n",
    "\n",
    "sof_noun_dict_sorted = sorted(sof_noun_dict.items(), key=lambda x: x[1], reverse=True)\n",
    "\n",
    "for i in sof_noun_dict_sorted:\n",
    "    print(i[0], i[1])"
   ]
  },
  {
   "cell_type": "code",
   "execution_count": 30,
   "id": "8c239877",
   "metadata": {},
   "outputs": [
    {
     "name": "stdout",
     "output_type": "stream",
     "text": [
      "Apple 26\n",
      "year 21\n",
      "iPhone 16\n",
      "Watch 12\n",
      "Pro 12\n",
      "iPhones 11\n",
      "cycling 10\n",
      "phones 9\n",
      "watchOS 8\n",
      "bike 8\n",
      "cyclists 7\n",
      "workout 6\n",
      "detection 6\n",
      "’s 6\n",
      "fall 6\n",
      "glass 6\n",
      "Blue 6\n",
      "Julz 5\n",
      "Mini 5\n",
      "Max 5\n",
      "sides 5\n",
      "update 4\n",
      "call 4\n",
      "impact 4\n",
      "falls 4\n",
      "models 4\n",
      "Lightning 4\n",
      "USB 4\n",
      "colours 4\n",
      "Sierra 4\n",
      "time 3\n",
      "watch 3\n",
      "sensors 3\n",
      "feature 3\n",
      "motion 3\n",
      "difference 3\n",
      "port 3\n",
      "C 3\n",
      "Midnight 3\n",
      "Pink 3\n",
      "shade 3\n",
      "Gold 3\n",
      "finish 3\n",
      "quality 2\n",
      "Outdoor 2\n",
      "features 2\n",
      "functions 2\n",
      "auto 2\n",
      "pause 2\n",
      "Garmin 2\n",
      "Wahoo 2\n",
      "fitness 2\n",
      "company 2\n",
      "video 2\n",
      "people 2\n",
      "computer 2\n",
      "algorithms 2\n",
      "data 2\n",
      "heart 2\n",
      "rate 2\n",
      "traffic 2\n",
      "watches 2\n",
      "users 2\n",
      "emergency 2\n",
      "services 2\n",
      "Series 2\n",
      "cadence 2\n",
      "power 2\n",
      "customers 2\n",
      "level 2\n",
      "meter 2\n",
      "feedback 2\n",
      "article 2\n",
      "team 2\n",
      "interest 2\n",
      "StarHub 2\n",
      "EasyGo 2\n",
      "option 2\n",
      "lineup 2\n",
      "bodies 2\n",
      "matte 2\n",
      "backs 2\n",
      "ports 2\n",
      "point 2\n",
      "thickness 2\n",
      "battery 2\n",
      "bit 2\n",
      "cases 2\n",
      "camera 2\n",
      "notch 2\n",
      "system 2\n",
      "units 2\n",
      "pink 2\n",
      "process 2\n",
      "model 2\n",
      "California 1\n",
      "Streaming 1\n",
      "event 1\n",
      "life 1\n",
      "upgrades 1\n",
      "Cycle 1\n",
      "computers 1\n",
      "mountain 1\n",
      "biker 1\n",
      "presentation 1\n",
      "moment 1\n",
      "segment 1\n",
      "areas 1\n",
      "jogging 1\n",
      "yoga 1\n",
      "boom 1\n",
      "pandemic 1\n",
      "months 1\n",
      "foldie 1\n",
      "roadbike 1\n",
      "demands 1\n",
      "experience 1\n",
      "Arney 1\n",
      "Director 1\n",
      "Fitness 1\n",
      "Health 1\n",
      "Technologies 1\n",
      "sort 1\n",
      "Cycling 1\n",
      "GPS 1\n",
      "accelerometer 1\n",
      "gyroscope 1\n",
      "starts 1\n",
      "Strava 1\n",
      "cheats 1\n",
      "pedaling 1\n",
      "car 1\n",
      "magnetometer 1\n",
      "compass 1\n",
      "change 1\n",
      "orientation 1\n",
      "swaying 1\n",
      "movement 1\n",
      "bicycle 1\n",
      "reminder 1\n",
      "self 1\n",
      "blessing 1\n",
      "ground 1\n",
      "breaking 1\n",
      "cities 1\n",
      "Singapore 1\n",
      "years 1\n",
      "elderlies 1\n",
      "bid 1\n",
      "roads 1\n",
      "activity 1\n",
      "turn 1\n",
      "road 1\n",
      "stop 1\n",
      "thing 1\n",
      "studies 1\n",
      "alert 1\n",
      "user 1\n",
      "notification 1\n",
      "message 1\n",
      "help 1\n",
      "lifesaver 1\n",
      "part 1\n",
      "6S 1\n",
      "iOS 1\n",
      "SE 1\n",
      "readings 1\n",
      "lot 1\n",
      "head 1\n",
      "mount 1\n",
      "Bluetooth 1\n",
      "profiles 1\n",
      "order 1\n",
      "beginning 1\n",
      "review 1\n",
      "September 1\n",
      "retail 1\n",
      "reservations 1\n",
      "name 1\n",
      "number 1\n",
      "surprises 1\n",
      "changes 1\n",
      "purchasing 1\n",
      "decision 1\n",
      "cuppa 1\n",
      "redesign 1\n",
      "recipe 1\n",
      "fact 1\n",
      "aluminium 1\n",
      "steel 1\n",
      "fingerprint 1\n",
      "dirt 1\n",
      "magnets 1\n",
      "back 1\n",
      "front 1\n",
      "Ceramic 1\n",
      "Shield 1\n",
      "Corning 1\n",
      "topic 1\n",
      "protection 1\n",
      "IP 1\n",
      "ratings 1\n",
      "IP68 1\n",
      "metres 1\n",
      "water 1\n",
      "minutes 1\n",
      "Buttons 1\n",
      "thoughts 1\n",
      "way 1\n",
      "C. 1\n",
      "compatibility 1\n",
      "Macs 1\n",
      "iPads 1\n",
      "variety 1\n",
      "accessories 1\n",
      "talks 1\n",
      "benefits 1\n",
      "Mac 1\n",
      "iPad 1\n",
      "events 1\n",
      "dimensions 1\n",
      "Heights 1\n",
      "widths 1\n",
      "mm 1\n",
      "weight 1\n",
      "Readers 1\n",
      "phone 1\n",
      "bump 1\n",
      "lenses 1\n",
      "photography 1\n",
      "section 1\n",
      "differences 1\n",
      "display 1\n",
      "TrueDepth 1\n",
      "megapixel 1\n",
      "photos 1\n",
      "Face 1\n",
      "ID 1\n",
      "authentication 1\n",
      "% 1\n",
      "Starlight 1\n",
      "hand 1\n",
      "Graphite 1\n",
      "Silver 1\n",
      "return 1\n",
      "vapour 1\n",
      "deposition 1\n",
      "PVD 1\n",
      "layers 1\n",
      "nanometer 1\n",
      "scale 1\n",
      "ceramics 1\n",
      "colour 1\n",
      "gold 1\n",
      "Pacific 1\n",
      "fans 1\n",
      "design 1\n",
      "edges 1\n",
      "build 1\n"
     ]
    }
   ],
   "source": [
    "hwz_tagged = []\n",
    "hwz_noun_dict = {}\n",
    "for sentence in hwz_text1:\n",
    "    hwz_tagged.append(nlp(sentence))\n",
    "for sentence in hwz_text2:\n",
    "    hwz_tagged.append(nlp(sentence))\n",
    "for tagged in hwz_tagged:\n",
    "    for token in tagged:\n",
    "        if token.pos_ in (\"PROPN\", \"NOUN\"):\n",
    "            if token.text in hwz_noun_dict.keys():\n",
    "                hwz_noun_dict[token.text] += 1\n",
    "            else:\n",
    "                hwz_noun_dict[token.text] = 1\n",
    "\n",
    "hwz_noun_dict_sorted = sorted(hwz_noun_dict.items(), key=lambda x: x[1], reverse=True)\n",
    "\n",
    "for i in hwz_noun_dict_sorted:\n",
    "    print(i[0], i[1])"
   ]
  },
  {
   "cell_type": "code",
   "execution_count": 31,
   "id": "a0839846",
   "metadata": {},
   "outputs": [
    {
     "name": "stdout",
     "output_type": "stream",
     "text": [
      "China 6\n",
      "rights 5\n",
      "UN 5\n",
      "Marseille 4\n",
      "Lazio 4\n",
      "Thursday 4\n",
      "Group 4\n",
      "points 4\n",
      "countries 4\n",
      "Red 3\n",
      "Star 3\n",
      "Midtjylland 3\n",
      "United 3\n",
      "Xinjiang 3\n",
      "Olympique 2\n",
      "action 2\n",
      "Photo 2\n",
      "REUTERS 2\n",
      "hopes 2\n",
      "draw 2\n",
      "woodwork 2\n",
      "goal 2\n",
      "goalkeeper 2\n",
      "Thomas 2\n",
      "games 2\n",
      "side 2\n",
      "lead 2\n",
      "minute 2\n",
      "home 2\n",
      "half 2\n",
      "Ludogorets 2\n",
      "Rapid 2\n",
      "win 2\n",
      "Uyghur 2\n",
      "accusations 2\n",
      "General 2\n",
      "Assembly 2\n",
      "statement 2\n",
      "committee 2\n",
      "reports 2\n",
      "camps 2\n",
      "abuse 2\n",
      "Cengiz 1\n",
      "Adam 1\n",
      "Marusic 1\n",
      "Danilo 1\n",
      "Cataldi 1\n",
      "Alberto 1\n",
      "Lingria 1\n",
      "ROME 1\n",
      "Europa 1\n",
      "League 1\n",
      "knockout 1\n",
      "stages 1\n",
      "Belgrade 1\n",
      "course 1\n",
      "Denmark 1\n",
      "Chances 1\n",
      "ends 1\n",
      "striker 1\n",
      "Ciro 1\n",
      "Immobile 1\n",
      "offside 1\n",
      "VAR 1\n",
      "Strakosha 1\n",
      "string 1\n",
      "saves 1\n",
      "Rome 1\n",
      "E 1\n",
      "Galatasaray 1\n",
      "difference 1\n",
      "team 1\n",
      "Lokomotiv 1\n",
      "Moscow 1\n",
      "European 1\n",
      "Cup 1\n",
      "winners 1\n",
      "run 1\n",
      "play 1\n",
      "F 1\n",
      "thanks 1\n",
      "volley 1\n",
      "midfielder 1\n",
      "Mirko 1\n",
      "Ivanic 1\n",
      "chances 1\n",
      "lop 1\n",
      "Milan 1\n",
      "Borjan 1\n",
      "visitors 1\n",
      "Nikolas 1\n",
      "Dyhr 1\n",
      "Victor 1\n",
      "Lind 1\n",
      "shot 1\n",
      "Portugal 1\n",
      "Braga 1\n",
      "Bulgaria 1\n",
      "Vienna 1\n",
      "Dinamo 1\n",
      "Zagreb 1\n",
      "level 1\n",
      "champions 1\n",
      "H 1\n",
      "leaders 1\n",
      "West 1\n",
      "Ham 1\n",
      "Belgium 1\n",
      "Genk 1\n",
      "Marco 1\n",
      "Gruell 1\n",
      "Maximilian 1\n",
      "Hoffman 1\n",
      "Mislav 1\n",
      "Orsic 1\n",
      "Royal 1\n",
      "Antwerp 1\n",
      "Fenerbahce 1\n",
      "Ecuador 1\n",
      "winger 1\n",
      "Enner 1\n",
      "Valencia 1\n",
      "penalty 1\n",
      "D. 1\n",
      "minaret 1\n",
      "Xinqu 1\n",
      "Mosque 1\n",
      "flag 1\n",
      "house 1\n",
      "worship 1\n",
      "Changji 1\n",
      "Urumqi 1\n",
      "Autonomous 1\n",
      "Region 1\n",
      "May 1\n",
      "Peter 1\n",
      "UNITED 1\n",
      "NATIONS 1\n",
      "Dozens 1\n",
      "pressure 1\n",
      "Nations 1\n",
      "Oct 1\n",
      "abuses 1\n",
      "Muslims 1\n",
      "minorities 1\n",
      "country 1\n",
      "region 1\n",
      "response 1\n",
      "envoy 1\n",
      "Confrontations 1\n",
      "States 1\n",
      "occurrence 1\n",
      "New 1\n",
      "York 1\n",
      "Human 1\n",
      "Rights 1\n",
      "Council 1\n",
      "Geneva 1\n",
      "part 1\n",
      "Ambassador 1\n",
      "Nicolas 1\n",
      "de 1\n",
      "Rivière 1\n",
      "concern 1\n",
      "violations 1\n",
      "people 1\n",
      "torture 1\n",
      "treatment 1\n",
      "punishment 1\n",
      "sterilisation 1\n",
      "gender 1\n",
      "violence 1\n",
      "separation 1\n",
      "children 1\n",
      "Beijing 1\n",
      "allegations 1\n",
      "Uyghurs 1\n",
      "training 1\n",
      "facilities 1\n",
      "extremism 1\n",
      "ambassador 1\n",
      "Zhang 1\n",
      "Jun 1\n",
      "US 1\n",
      "attempts 1\n",
      "record 1\n"
     ]
    }
   ],
   "source": [
    "cna_tagged = []\n",
    "cna_noun_dict = {}\n",
    "for sentence in cna_text1:\n",
    "    cna_tagged.append(nlp(sentence))\n",
    "for sentence in cna_text2:\n",
    "    cna_tagged.append(nlp(sentence))\n",
    "for tagged in cna_tagged:\n",
    "    for token in tagged:\n",
    "        if token.pos_ in (\"PROPN\", \"NOUN\"):\n",
    "            if token.text in cna_noun_dict.keys():\n",
    "                cna_noun_dict[token.text] += 1\n",
    "            else:\n",
    "                cna_noun_dict[token.text] = 1\n",
    "\n",
    "cna_noun_dict_sorted = sorted(cna_noun_dict.items(), key=lambda x: x[1], reverse=True)\n",
    "\n",
    "for i in cna_noun_dict_sorted:\n",
    "    print(i[0], i[1])"
   ]
  },
  {
   "cell_type": "markdown",
   "id": "f07f927c",
   "metadata": {},
   "source": [
    "#### % of passive sentences in the text"
   ]
  },
  {
   "cell_type": "code",
   "execution_count": 33,
   "id": "cbd79fa3",
   "metadata": {},
   "outputs": [],
   "source": [
    "def passive_sents(text):\n",
    "    passivecounts = 0\n",
    "    for sent in text:\n",
    "        if is_passive(sent):\n",
    "            passivecounts += 1\n",
    "    return passivecounts/len(text)"
   ]
  },
  {
   "cell_type": "code",
   "execution_count": 34,
   "id": "bff1f7ce",
   "metadata": {},
   "outputs": [
    {
     "name": "stdout",
     "output_type": "stream",
     "text": [
      "% of passive sentences in sof_text1:  0.0\n",
      "% of passive sentences in sof_text2:  0.0\n",
      "% of passive sentences in hwz_text1:  0.02702702702702703\n",
      "% of passive sentences in hwz_text2:  0.09615384615384616\n",
      "% of passive sentences in cna_text1:  0.0\n",
      "% of passive sentences in cna_text2:  0.0\n"
     ]
    }
   ],
   "source": [
    "print(\"% of passive sentences in sof_text1: \", passive_sents(sof_text1))\n",
    "print(\"% of passive sentences in sof_text2: \", passive_sents(sof_text2))\n",
    "print(\"% of passive sentences in hwz_text1: \", passive_sents(hwz_text1))\n",
    "print(\"% of passive sentences in hwz_text2: \", passive_sents(hwz_text2))\n",
    "print(\"% of passive sentences in cna_text1: \", passive_sents(cna_text1))\n",
    "print(\"% of passive sentences in cna_text2: \", passive_sents(cna_text2))"
   ]
  },
  {
   "cell_type": "markdown",
   "id": "008daebf",
   "metadata": {},
   "source": [
    "#### 1. Avg length of sentences "
   ]
  },
  {
   "cell_type": "code",
   "execution_count": 35,
   "id": "e9f2c393",
   "metadata": {},
   "outputs": [],
   "source": [
    "def avg_sent_len(text):\n",
    "    total_words = 0\n",
    "    for sent in text:\n",
    "        total_words += len(sent)\n",
    "    return total_words/len(text)"
   ]
  },
  {
   "cell_type": "code",
   "execution_count": 36,
   "id": "f11ad3ea",
   "metadata": {},
   "outputs": [
    {
     "name": "stdout",
     "output_type": "stream",
     "text": [
      "Average length of sentences in sof_text1:  61.714285714285715\n",
      "Average length of sentences in sof_text2:  87.54545454545455\n",
      "Average length of sentences in hwz_text1:  146.9189189189189\n",
      "Average length of sentences in hwz_text2:  100.25\n",
      "Average length of sentences in cna_text1:  141.69230769230768\n",
      "Average length of sentences in cna_text2:  176.88888888888889\n"
     ]
    }
   ],
   "source": [
    "print(\"Average length of sentences in sof_text1: \", avg_sent_len(sof_text1))\n",
    "print(\"Average length of sentences in sof_text2: \", avg_sent_len(sof_text2))\n",
    "print(\"Average length of sentences in hwz_text1: \", avg_sent_len(hwz_text1))\n",
    "print(\"Average length of sentences in hwz_text2: \", avg_sent_len(hwz_text2))\n",
    "print(\"Average length of sentences in cna_text1: \", avg_sent_len(cna_text1))\n",
    "print(\"Average length of sentences in cna_text2: \", avg_sent_len(cna_text2))"
   ]
  },
  {
   "cell_type": "markdown",
   "id": "04f11c99",
   "metadata": {},
   "source": [
    "#### 2. Short sentences in text"
   ]
  },
  {
   "cell_type": "code",
   "execution_count": 53,
   "id": "7b2cebc4",
   "metadata": {},
   "outputs": [],
   "source": [
    "def num_short_sents(text):\n",
    "    count = 0\n",
    "    for sent in text:\n",
    "        if len(sent) < 20:\n",
    "            print(sent)\n",
    "            count += 1\n",
    "    return count"
   ]
  },
  {
   "cell_type": "code",
   "execution_count": 54,
   "id": "91ec8430",
   "metadata": {},
   "outputs": [
    {
     "name": "stdout",
     "output_type": "stream",
     "text": [
      "I tried this:\n",
      "Code Snippet :\n",
      "Output:\n",
      "or even\n",
      "Count of short sentences in sof_text1:  4 out of 21 sentences\n",
      "Count of short sentences in sof_text2:  0 out of 11 sentences\n",
      "Count of short sentences in hwz_text1:  0 out of 37 sentences\n",
      "Alright, rant over.\n",
      "Is it noticeable?\n",
      "Count of short sentences in hwz_text2:  2 out of 52 sentences\n",
      "Count of short sentences in cna_text1:  0 out of 13 sentences\n",
      "Count of short sentences in cna_text2:  0 out of 9 sentences\n"
     ]
    }
   ],
   "source": [
    "print(\"Count of short sentences in sof_text1: \", num_short_sents(sof_text1), \"out of\", len(sof_text1), \"sentences\")\n",
    "print(\"Count of short sentences in sof_text2: \", num_short_sents(sof_text2), \"out of\", len(sof_text2), \"sentences\")\n",
    "print(\"Count of short sentences in hwz_text1: \", num_short_sents(hwz_text1), \"out of\", len(hwz_text1), \"sentences\")\n",
    "print(\"Count of short sentences in hwz_text2: \", num_short_sents(hwz_text2), \"out of\", len(hwz_text2), \"sentences\")\n",
    "print(\"Count of short sentences in cna_text1: \", num_short_sents(cna_text1), \"out of\", len(cna_text1), \"sentences\")\n",
    "print(\"Count of short sentences in cna_text2: \", num_short_sents(cna_text2), \"out of\", len(cna_text2), \"sentences\")"
   ]
  },
  {
   "cell_type": "markdown",
   "id": "13c19991",
   "metadata": {},
   "source": [
    "# Formality"
   ]
  },
  {
   "cell_type": "markdown",
   "id": "fe2e3eca",
   "metadata": {},
   "source": [
    "#### No of second-person pronoun 'you'"
   ]
  },
  {
   "cell_type": "code",
   "execution_count": 43,
   "id": "349b16c2",
   "metadata": {},
   "outputs": [],
   "source": [
    "def num_sec_pronoun(text):\n",
    "    count = 0 \n",
    "    for sent in text:\n",
    "        if 'you' in sent:\n",
    "            count += 1 \n",
    "    return count"
   ]
  },
  {
   "cell_type": "code",
   "execution_count": 44,
   "id": "5e9d63dd",
   "metadata": {},
   "outputs": [
    {
     "name": "stdout",
     "output_type": "stream",
     "text": [
      "Count of second person pronoun in sof_text1:  7\n",
      "Count of second person pronoun in sof_text2:  0\n",
      "Count of second person pronoun in hwz_text1:  12\n",
      "Count of second person pronoun in hwz_text2:  5\n",
      "Count of second person pronoun in cna_text1:  0\n",
      "Count of second person pronoun in cna_text2:  1\n"
     ]
    }
   ],
   "source": [
    "print(\"Count of second person pronoun in sof_text1: \", num_sec_pronoun(sof_text1))\n",
    "print(\"Count of second person pronoun in sof_text2: \", num_sec_pronoun(sof_text2))\n",
    "print(\"Count of second person pronoun in hwz_text1: \", num_sec_pronoun(hwz_text1))\n",
    "print(\"Count of second person pronoun in hwz_text2: \", num_sec_pronoun(hwz_text2))\n",
    "print(\"Count of second person pronoun in cna_text1: \", num_sec_pronoun(cna_text1))\n",
    "print(\"Count of second person pronoun in cna_text2: \", num_sec_pronoun(cna_text2))"
   ]
  },
  {
   "cell_type": "code",
   "execution_count": 46,
   "id": "0e8bf440",
   "metadata": {},
   "outputs": [],
   "source": [
    "#contractions\n",
    "def percentage_of_contractions(text):\n",
    "    total_words = 0\n",
    "    for sent in text:\n",
    "        total_words += len(sent)\n",
    "    count = 0\n",
    "    for sent in text:\n",
    "        if \"'\" in sent:\n",
    "            count += 1\n",
    "    return count / total_words"
   ]
  },
  {
   "cell_type": "code",
   "execution_count": 47,
   "id": "9abe9e54",
   "metadata": {},
   "outputs": [
    {
     "name": "stdout",
     "output_type": "stream",
     "text": [
      "Percentage of contractions in sof_text1:  0.0038580246913580245\n",
      "Percentage of contractions in sof_text2:  0.003115264797507788\n",
      "Percentage of contractions in hwz_text1:  0.0014716703458425313\n",
      "Percentage of contractions in hwz_text2:  0.0007673124880107424\n",
      "Percentage of contractions in cna_text1:  0.0027144408251900108\n",
      "Percentage of contractions in cna_text2:  0.001256281407035176\n"
     ]
    }
   ],
   "source": [
    "print(\"Percentage of contractions in sof_text1: \", percentage_of_contractions(sof_text1))\n",
    "print(\"Percentage of contractions in sof_text2: \", percentage_of_contractions(sof_text2))\n",
    "print(\"Percentage of contractions in hwz_text1: \", percentage_of_contractions(hwz_text1))\n",
    "print(\"Percentage of contractions in hwz_text2: \", percentage_of_contractions(hwz_text2))\n",
    "print(\"Percentage of contractions in cna_text1: \", percentage_of_contractions(cna_text1))\n",
    "print(\"Percentage of contractions in cna_text2: \", percentage_of_contractions(cna_text2))"
   ]
  },
  {
   "cell_type": "code",
   "execution_count": 50,
   "id": "0b8e886d",
   "metadata": {},
   "outputs": [
    {
     "data": {
      "text/plain": [
       "211"
      ]
     },
     "execution_count": 50,
     "metadata": {},
     "output_type": "execute_result"
    }
   ],
   "source": [
    "#common singlish words adapted from wikipedia\n",
    "common_singlish_words_a = [\"abit\",\"abuden\",\"agak\",\"ah\",\"ahbeng\",\"ahseng\",\"ahlian\",\"ayam\",\"atas\",\"aiya\",\"aiyah\",\"aiyo\",\"aiyoh\",\"alamak\",\"angmoh\",\"angpow\",\"ar\",\"arh\"]\n",
    "common_singlish_words_b = [\"balik\",\"bakkwa\",\"belanja\",\"bodoh\",\"bo\",\"boh\",\"bochup\",\"bojio\",\"boleh\",\"buay\",\"buaypai\",\"buaytahan\",\"buey,\"\"bope\",\"bopian\",\"barang\",\"botak\"]\n",
    "common_singlish_words_c = [\"chao\",\"chaokeng\",\"cheena\",\"charbor\",\"cher\",\"chim\",\"cheem\",\"chio\",\"chiobu\",\"chiong\",\"chope\",\"chiongsua\",\"cmi\",\"chinchai\"]\n",
    "common_singlish_words_d = [\"dabao\",\"damn\",\"dey\",\"diam\",\"dulan\",\"dunnid\",\"dope\"]\n",
    "common_singlish_words_e = [\"eeyer\",\"encik\"]\n",
    "common_singlish_words_f = []\n",
    "common_singlish_words_g = [\"gabra\",\"gahmen\",\"garang\",\"geh geh\",\"geh kiang\",\"ger\",\"gone-case\",\"goondu\",\"gostan\",\"guailan\"]\n",
    "common_singlish_words_h = [\"haolian\",\"heng\",\"horlan\",\"hongbao\",\"ho liao\",\"honggan\",\"hoseh\",\"huat\",\"humji\"]\n",
    "common_singlish_words_i = [\"ini macam\"]\n",
    "common_singlish_words_j = [\"jelak\",\"jiak\",\"jiak chao\",\"jialat\",\"jio\"]\n",
    "common_singlish_words_k = [\"kampong\",\"kaypoh\",\"kayu\",\"keesiao\",\"kena\",\"kns\",\"kenasai\",\"kiam\",\"kiampak\",\"kiasi\",\"kiasu\",\"kilat\",\"kopi\",\"kopitiam\"]\n",
    "common_singlish_words_l = [\"la\",\"lah\",\"lor\",\"lo\",\"leh\",\"le\",\"liao\",\"laosai\",\"lepak\",\"liddat\",\"limpeh\",\"limbu\",\"lobang\",\"luan\"]\n",
    "common_singlish_words_m = [\"macam\",\"mafan\",\"makan\",\"makcik\",\"malu\",\"mati\",\"mata\",\"meh\",\"mah\"]\n",
    "common_singlish_words_n = [\"ngeow\",\"nia\",\"nua\",\"nia gong\",\"nuah\",\"nolor\"]\n",
    "common_singlish_words_o = [\"obasan\",\"obiang\",\"orbi\",\"ord\",\"ordloh\",\"orh\",\"orh hor\",\"oso\",\"owadio\"]\n",
    "common_singlish_words_p = [\"paikia\",\"paiseh\",\"ps\",\"paktor\",\"pangsai\",\"pangseh\",\"pangjio\",\"pasarmalam\",\"pia\",\"piak\",\"pok kai\",\"pon\",\"powderful\",\"paitao\"]\n",
    "common_singlish_words_q = []\n",
    "common_singlish_words_r = [\"rabak\",\"rabz\"]\n",
    "common_singlish_words_s = [\"sabo\",\"sakar\",\"saman\",\"sampat\",\"sam seng\",\"sargen\",\"sei\",\"sekali\",\"shiok\",\"sia\",\"siah\",\"seh\",\"siam\",\"sian\",\"sien\",\"siao\",\"siasuey\",\"sibei\",\"sibeh\",\"simi\",\"sod\",\"sorzai\",\"suay\",\"suka\",\"suku\",\"swee\",\"swaku\"]\n",
    "common_singlish_words_t = [\"tahan\",\"taiko\",\"tyco\",\"tak boleh\",\"tapao\",\"tapau\",\"taupok\",\"teh\",\"tekan\",\"terbalik\",\"tembalik\",\"tiam\",\"tio\",\"towkay\"]\n",
    "common_singlish_words_u = [\"ulu\"]\n",
    "common_singlish_words_v = []\n",
    "common_singlish_words_w = [\"wa\",\"wah\",\"walan\",\"wahlan\",\"walao\",\"wahlao\",\"wakao\",\"wahkao\",\"wayang\"]\n",
    "common_singlish_words_x = [\"xia suay\",\"xialan\"]\n",
    "common_singlish_words_y = [\"yandao\",\"yaya\"]\n",
    "common_singlish_words_z = [\"zai\",\"zao\",\"zhabo\",\"zhun\",\"zhunbo\",\"zi siao\"]\n",
    "common_singlish_words = common_singlish_words_a + common_singlish_words_b + common_singlish_words_c + common_singlish_words_d + common_singlish_words_e + common_singlish_words_f + common_singlish_words_g + common_singlish_words_h + common_singlish_words_i + common_singlish_words_j + common_singlish_words_k + common_singlish_words_l + common_singlish_words_m + common_singlish_words_n + common_singlish_words_o + common_singlish_words_p + common_singlish_words_q + common_singlish_words_r + common_singlish_words_s + common_singlish_words_t + common_singlish_words_u + common_singlish_words_v + common_singlish_words_w + common_singlish_words_x + common_singlish_words_y + common_singlish_words_z\n",
    "len(common_singlish_words)"
   ]
  },
  {
   "cell_type": "code",
   "execution_count": 51,
   "id": "ccd7f4bd",
   "metadata": {},
   "outputs": [],
   "source": [
    "#singlish\n",
    "def percentage_of_singlish(text):\n",
    "    total_words = 0\n",
    "    for sent in text:\n",
    "        total_words += len(sent)\n",
    "    count = 0\n",
    "    for sent in text:\n",
    "        if \"'\" in common_singlish_words:\n",
    "            count += 1\n",
    "    return count / total_words"
   ]
  },
  {
   "cell_type": "code",
   "execution_count": 52,
   "id": "ddbd4cd2",
   "metadata": {},
   "outputs": [
    {
     "name": "stdout",
     "output_type": "stream",
     "text": [
      "Percentage of Singlish words in sof_text1:  0.0\n",
      "Percentage of Singlish words in sof_text2:  0.0\n",
      "Percentage of Singlish words in hwz_text1:  0.0\n",
      "Percentage of Singlish words in hwz_text2:  0.0\n",
      "Percentage of Singlish words in cna_text1:  0.0\n",
      "Percentage of Singlish words in cna_text2:  0.0\n"
     ]
    }
   ],
   "source": [
    "print(\"Percentage of Singlish words in sof_text1: \", percentage_of_singlish(sof_text1))\n",
    "print(\"Percentage of Singlish words in sof_text2: \", percentage_of_singlish(sof_text2))\n",
    "print(\"Percentage of Singlish words in hwz_text1: \", percentage_of_singlish(hwz_text1))\n",
    "print(\"Percentage of Singlish words in hwz_text2: \", percentage_of_singlish(hwz_text2))\n",
    "print(\"Percentage of Singlish words in cna_text1: \", percentage_of_singlish(cna_text1))\n",
    "print(\"Percentage of Singlish words in cna_text2: \", percentage_of_singlish(cna_text2))"
   ]
  },
  {
   "cell_type": "markdown",
   "id": "cdad0f1f",
   "metadata": {},
   "source": [
    "Findings:\n",
    "1. Length of articles\n",
    "    - SOF consistently the shortest, HWZ and CNA are higher by a big margin (+30 sentences on avg)\n",
    "2. Proper nouns\n",
    "    - SOF has the lowest counts of capitalisation for proper nouns (expected)\n",
    "3. Kind of proper nouns used \n",
    "    - SOF always uses language from programming/coding domain\n",
    "    - HWZ always writes about either telco/pop culture (movies?)\n",
    "    - CNA \n",
    "4. Length of sentences (CHECK THIS!!)\n",
    "    - SOF always has the shortest sentences\n",
    "    - HWZ and CNA has much longer sentences (approx 100 words)\n",
    "5. Counts of extremely short sentences"
   ]
  },
  {
   "cell_type": "code",
   "execution_count": null,
   "id": "818d613b",
   "metadata": {},
   "outputs": [],
   "source": []
  }
 ],
 "metadata": {
  "kernelspec": {
   "display_name": "Python 3 (ipykernel)",
   "language": "python",
   "name": "python3"
  },
  "language_info": {
   "codemirror_mode": {
    "name": "ipython",
    "version": 3
   },
   "file_extension": ".py",
   "mimetype": "text/x-python",
   "name": "python",
   "nbconvert_exporter": "python",
   "pygments_lexer": "ipython3",
   "version": "3.9.7"
  }
 },
 "nbformat": 4,
 "nbformat_minor": 5
}
