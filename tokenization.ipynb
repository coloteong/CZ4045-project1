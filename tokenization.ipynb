{
 "cells": [
  {
   "cell_type": "code",
   "execution_count": 33,
   "id": "f30d68b9",
   "metadata": {},
   "outputs": [],
   "source": [
    "# Import the libraries needed\n",
    "import os\n",
    "from pathlib import Path\n",
    "from bs4 import BeautifulSoup\n",
    "from collections import Counter\n",
    "import itertools\n",
    "import matplotlib as plt\n",
    "import nltk\n",
    "from nltk.corpus import stopwords\n",
    "from nltk.probability import FreqDist\n",
    "from nltk.stem import PorterStemmer\n",
    "from nltk.stem import LancasterStemmer\n",
    "from nltk.tokenize import word_tokenize\n",
    "from nltk.tokenize import sent_tokenize\n",
    "from nltk.tokenize import RegexpTokenizer\n",
    "import pandas as pd\n",
    "import random\n",
    "import spacy\n",
    "from spacy import displacy\n",
    "from spacy.lang.en import English\n",
    "from urllib.request import urlopen\n",
    "import re\n",
    "import requests\n",
    "import seaborn as sns"
   ]
  },
  {
   "cell_type": "code",
   "execution_count": 2,
   "id": "f80ea11f",
   "metadata": {},
   "outputs": [],
   "source": [
    "nlp = spacy.load(\"en_core_web_sm\")"
   ]
  },
  {
   "cell_type": "code",
   "execution_count": 3,
   "id": "c16ec70f",
   "metadata": {},
   "outputs": [],
   "source": [
    "if not os.path.isdir('figures'):\n",
    "    print('creating the figures folder')\n",
    "    os.makedirs('figures')"
   ]
  },
  {
   "cell_type": "markdown",
   "id": "5a500133",
   "metadata": {},
   "source": [
    "## Importing Dataset"
   ]
  },
  {
   "cell_type": "code",
   "execution_count": 4,
   "id": "670edb2a",
   "metadata": {},
   "outputs": [],
   "source": [
    "reviews = pd.read_json('data/reviewSelected100.json', encoding='ISO-8859-1', lines=True)"
   ]
  },
  {
   "cell_type": "markdown",
   "id": "b28ab6a3",
   "metadata": {},
   "source": [
    "## 3.2 Dataset Analysis"
   ]
  },
  {
   "cell_type": "markdown",
   "id": "25ada78c",
   "metadata": {},
   "source": [
    "### Tokenisation and Stemming"
   ]
  },
  {
   "cell_type": "code",
   "execution_count": 5,
   "id": "125d99a2",
   "metadata": {},
   "outputs": [
    {
     "data": {
      "text/html": [
       "<div>\n",
       "<style scoped>\n",
       "    .dataframe tbody tr th:only-of-type {\n",
       "        vertical-align: middle;\n",
       "    }\n",
       "\n",
       "    .dataframe tbody tr th {\n",
       "        vertical-align: top;\n",
       "    }\n",
       "\n",
       "    .dataframe thead th {\n",
       "        text-align: right;\n",
       "    }\n",
       "</style>\n",
       "<table border=\"1\" class=\"dataframe\">\n",
       "  <thead>\n",
       "    <tr style=\"text-align: right;\">\n",
       "      <th></th>\n",
       "      <th>review_id</th>\n",
       "      <th>user_id</th>\n",
       "      <th>business_id</th>\n",
       "      <th>stars</th>\n",
       "      <th>useful</th>\n",
       "      <th>funny</th>\n",
       "      <th>cool</th>\n",
       "      <th>text</th>\n",
       "      <th>date</th>\n",
       "    </tr>\n",
       "  </thead>\n",
       "  <tbody>\n",
       "    <tr>\n",
       "      <th>3128</th>\n",
       "      <td>XoIFztsh5dpHB_t_egFfdQ</td>\n",
       "      <td>F3kQlBYlD__s-J9U2-HsEA</td>\n",
       "      <td>xVpE01l6ZXdEtVf5PkRpDg</td>\n",
       "      <td>1</td>\n",
       "      <td>1</td>\n",
       "      <td>1</td>\n",
       "      <td>0</td>\n",
       "      <td>Crap. $18 for fried chicken thighs, ham hock &amp;...</td>\n",
       "      <td>2016-08-04 02:18:55</td>\n",
       "    </tr>\n",
       "    <tr>\n",
       "      <th>3132</th>\n",
       "      <td>TDMUFrflTe3bsCH_JZntUQ</td>\n",
       "      <td>A1x6u0aDh0dAUbUY4Qi9hQ</td>\n",
       "      <td>xVpE01l6ZXdEtVf5PkRpDg</td>\n",
       "      <td>5</td>\n",
       "      <td>2</td>\n",
       "      <td>0</td>\n",
       "      <td>3</td>\n",
       "      <td>I've been here almost 2 years from Los Angeles...</td>\n",
       "      <td>2015-12-21 03:12:30</td>\n",
       "    </tr>\n",
       "    <tr>\n",
       "      <th>3178</th>\n",
       "      <td>8biDmCi4A4CUZAHL61y3BQ</td>\n",
       "      <td>ZGS8ribIELU9IVNOvkgykg</td>\n",
       "      <td>xVpE01l6ZXdEtVf5PkRpDg</td>\n",
       "      <td>5</td>\n",
       "      <td>1</td>\n",
       "      <td>0</td>\n",
       "      <td>0</td>\n",
       "      <td>Wow!  Exquisite service and fantastic food! Ch...</td>\n",
       "      <td>2015-11-07 02:09:15</td>\n",
       "    </tr>\n",
       "    <tr>\n",
       "      <th>3201</th>\n",
       "      <td>_XNO2o0x3XU75jjTW7mqGQ</td>\n",
       "      <td>ZGS8ribIELU9IVNOvkgykg</td>\n",
       "      <td>xVpE01l6ZXdEtVf5PkRpDg</td>\n",
       "      <td>5</td>\n",
       "      <td>0</td>\n",
       "      <td>0</td>\n",
       "      <td>0</td>\n",
       "      <td>Now I have happily experienced Julep six times...</td>\n",
       "      <td>2016-07-05 13:37:40</td>\n",
       "    </tr>\n",
       "    <tr>\n",
       "      <th>3250</th>\n",
       "      <td>fCbJec523CMaRElfKen12w</td>\n",
       "      <td>QqIDHcG_1MHfKKbt5zlQHA</td>\n",
       "      <td>xVpE01l6ZXdEtVf5PkRpDg</td>\n",
       "      <td>4</td>\n",
       "      <td>11</td>\n",
       "      <td>3</td>\n",
       "      <td>4</td>\n",
       "      <td>Julep is a new fusion/southern spot on E Washi...</td>\n",
       "      <td>2015-11-20 07:42:26</td>\n",
       "    </tr>\n",
       "  </tbody>\n",
       "</table>\n",
       "</div>"
      ],
      "text/plain": [
       "                   review_id                 user_id             business_id  \\\n",
       "3128  XoIFztsh5dpHB_t_egFfdQ  F3kQlBYlD__s-J9U2-HsEA  xVpE01l6ZXdEtVf5PkRpDg   \n",
       "3132  TDMUFrflTe3bsCH_JZntUQ  A1x6u0aDh0dAUbUY4Qi9hQ  xVpE01l6ZXdEtVf5PkRpDg   \n",
       "3178  8biDmCi4A4CUZAHL61y3BQ  ZGS8ribIELU9IVNOvkgykg  xVpE01l6ZXdEtVf5PkRpDg   \n",
       "3201  _XNO2o0x3XU75jjTW7mqGQ  ZGS8ribIELU9IVNOvkgykg  xVpE01l6ZXdEtVf5PkRpDg   \n",
       "3250  fCbJec523CMaRElfKen12w  QqIDHcG_1MHfKKbt5zlQHA  xVpE01l6ZXdEtVf5PkRpDg   \n",
       "\n",
       "      stars  useful  funny  cool  \\\n",
       "3128      1       1      1     0   \n",
       "3132      5       2      0     3   \n",
       "3178      5       1      0     0   \n",
       "3201      5       0      0     0   \n",
       "3250      4      11      3     4   \n",
       "\n",
       "                                                   text                date  \n",
       "3128  Crap. $18 for fried chicken thighs, ham hock &... 2016-08-04 02:18:55  \n",
       "3132  I've been here almost 2 years from Los Angeles... 2015-12-21 03:12:30  \n",
       "3178  Wow!  Exquisite service and fantastic food! Ch... 2015-11-07 02:09:15  \n",
       "3201  Now I have happily experienced Julep six times... 2016-07-05 13:37:40  \n",
       "3250  Julep is a new fusion/southern spot on E Washi... 2015-11-20 07:42:26  "
      ]
     },
     "execution_count": 5,
     "metadata": {},
     "output_type": "execute_result"
    }
   ],
   "source": [
    "# get reviews for a random business \n",
    "random_business = reviews.sample(random_state=16)\n",
    "random_business_id = random_business.iloc[0]['business_id']\n",
    "small_business_dataset = reviews.loc[reviews['business_id'] == random_business_id]\n",
    "small_business_dataset.head()"
   ]
  },
  {
   "cell_type": "code",
   "execution_count": 6,
   "id": "2a5bf07d",
   "metadata": {},
   "outputs": [
    {
     "name": "stdout",
     "output_type": "stream",
     "text": [
      "[('the', 625), ('and', 559), ('a', 362), ('was', 334), ('I', 263), ('to', 255), ('of', 233), ('The', 229), ('with', 167), ('is', 167)]\n"
     ]
    }
   ],
   "source": [
    "# convert the reviews into a concatenated string \n",
    "small_business_dataset_reviews = list(small_business_dataset['text'])\n",
    "b1_review = ''.join(small_business_dataset_reviews)\n",
    "clean_review = re.sub(r\"[^A-Za-z0-9\\s]+\", \"\", b1_review)\n",
    "b1_review = nlp(clean_review)\n",
    "\n",
    "# removed punctuation and get the top 10 most common words (including stopwords)\n",
    "b1_review_words = [token.text for token in b1_review if token.is_alpha == True] \n",
    "b1_word_freq = Counter(b1_review_words)\n",
    "b1_common_words = b1_word_freq.most_common(10)\n",
    "print(b1_common_words)"
   ]
  },
  {
   "cell_type": "code",
   "execution_count": 7,
   "id": "f1193a2e",
   "metadata": {},
   "outputs": [
    {
     "name": "stdout",
     "output_type": "stream",
     "text": [
      "[('food', 87), ('nt', 86), ('good', 78), ('Julep', 64), ('chicken', 55), ('grits', 52), ('great', 50), ('place', 48), ('shrimp', 45), ('like', 42)]\n"
     ]
    }
   ],
   "source": [
    "# removed punctuation and get the top 10 most common words (excluding stopwords)\n",
    "b1_review_words = [token.text for token in b1_review if token.is_stop != True and token.is_alpha == True] \n",
    "b1_word_freq = Counter(b1_review_words)\n",
    "b1_common_words_nsw = b1_word_freq.most_common(10)\n",
    "print(b1_common_words_nsw)"
   ]
  },
  {
   "cell_type": "code",
   "execution_count": 8,
   "id": "45de7175",
   "metadata": {},
   "outputs": [
    {
     "data": {
      "image/png": "[encoded data removed]",
      "text/plain": [
       "<Figure size 432x288 with 1 Axes>"
      ]
     },
     "metadata": {
      "needs_background": "light"
     },
     "output_type": "display_data"
    }
   ],
   "source": [
    "# log graph before stemming\n",
    "df = pd.DataFrame(b1_word_freq.items(), columns=['word', 'count'])\n",
    "df = df.sort_values(by=['count'], ascending=False)\n",
    "\n",
    "ticks = [1, 10, 100]\n",
    "figure = sns.lineplot(data=df, x='word', y='count')\n",
    "figure.set_yscale(\"log\") \n",
    "figure.set_yticks(ticks)\n",
    "figure.set_yticklabels(ticks)\n",
    "figure.set_xticks([])\n",
    "figure.set_xticklabels([])\n",
    "figure.set_xlabel('Words')\n",
    "figure.set_ylabel('Counts')\n",
    "figure.set_title(\"Business 1 Word Counts Before Stemming (log scale)\")\n",
    "\n",
    "fig = figure.get_figure()\n",
    "fig.savefig(\"figures/b1_freq_before_stemming\") "
   ]
  },
  {
   "cell_type": "code",
   "execution_count": 9,
   "id": "fbfe2495",
   "metadata": {},
   "outputs": [],
   "source": [
    "# now we do some stemming after removing the stopwords\n",
    "from nltk.stem import PorterStemmer\n",
    "from nltk.stem import LancasterStemmer\n",
    "from nltk.stem import SnowballStemmer\n",
    "\n",
    "porter_st = PorterStemmer()\n",
    "lancaster_st = LancasterStemmer()\n",
    "snow_st = SnowballStemmer(\"english\")"
   ]
  },
  {
   "cell_type": "code",
   "execution_count": 10,
   "id": "c3441bf7",
   "metadata": {},
   "outputs": [
    {
     "name": "stdout",
     "output_type": "stream",
     "text": [
      "[('food', 88), ('julep', 87), ('nt', 86), ('good', 80), ('great', 60), ('chicken', 59), ('order', 57), ('grit', 56), ('place', 53), ('shrimp', 52)]\n"
     ]
    }
   ],
   "source": [
    "# Using Porter Stemmer\n",
    "porter_stemmed_words = [porter_st.stem(word) for word in b1_review_words]\n",
    "porter_freq = Counter(porter_stemmed_words)\n",
    "b1_porter_common_nsw = porter_freq.most_common(10)\n",
    "print(b1_porter_common_nsw)"
   ]
  },
  {
   "cell_type": "code",
   "execution_count": 11,
   "id": "0b9bf571",
   "metadata": {},
   "outputs": [
    {
     "data": {
      "image/png": "[encoded data removed]",
      "text/plain": [
       "<Figure size 432x288 with 1 Axes>"
      ]
     },
     "metadata": {
      "needs_background": "light"
     },
     "output_type": "display_data"
    }
   ],
   "source": [
    "# log graph after stemming (porter stemmer)\n",
    "df = pd.DataFrame(porter_freq.items(), columns=['word', 'count'])\n",
    "df = df.sort_values(by=['count'], ascending=False)\n",
    "\n",
    "ticks = [1, 10, 100]\n",
    "figure = sns.lineplot(data=df, x='word', y='count')\n",
    "figure.set_yscale(\"log\") \n",
    "figure.set_yticks(ticks)\n",
    "figure.set_yticklabels(ticks)\n",
    "figure.set_xticks([])\n",
    "figure.set_xticklabels([])\n",
    "figure.set_xlabel('Words')\n",
    "figure.set_ylabel('Counts')\n",
    "figure.set_title(\"Business 1 Word Counts After Stemming (log scale)\")\n",
    "\n",
    "fig = figure.get_figure()\n",
    "fig.savefig(\"figures/b1_freq_after_stemming\")"
   ]
  },
  {
   "cell_type": "code",
   "execution_count": 12,
   "id": "5e0c1d47",
   "metadata": {},
   "outputs": [
    {
     "name": "stdout",
     "output_type": "stream",
     "text": [
      "[('food', 89), ('julep', 88), ('nt', 86), ('good', 81), ('serv', 62), ('gre', 61), ('chick', 60), ('ord', 57), ('grit', 56), ('plac', 53)]\n"
     ]
    }
   ],
   "source": [
    "# Using Lancaster Stemmer\n",
    "lancaster_stemmed_words = [lancaster_st.stem(word) for word in b1_review_words]\n",
    "lancaster_freq = Counter(lancaster_stemmed_words)\n",
    "lancaster_common = lancaster_freq.most_common(10)\n",
    "print(lancaster_common)"
   ]
  },
  {
   "cell_type": "code",
   "execution_count": 13,
   "id": "2438bea9",
   "metadata": {},
   "outputs": [
    {
     "name": "stdout",
     "output_type": "stream",
     "text": [
      "[('food', 88), ('julep', 87), ('nt', 86), ('good', 80), ('great', 60), ('chicken', 59), ('order', 57), ('grit', 56), ('place', 53), ('shrimp', 52)]\n"
     ]
    }
   ],
   "source": [
    "# Using Snowball Stemmer\n",
    "snow_stemmed_words = [snow_st.stem(word) for word in b1_review_words]\n",
    "snow_freq = Counter(snow_stemmed_words)\n",
    "snow_common = snow_freq.most_common(10)\n",
    "print(snow_common)"
   ]
  },
  {
   "cell_type": "markdown",
   "id": "ccf133e0",
   "metadata": {},
   "source": [
    "---\n",
    "Doing the same process for business 2"
   ]
  },
  {
   "cell_type": "code",
   "execution_count": 14,
   "id": "5a9992d7",
   "metadata": {},
   "outputs": [
    {
     "name": "stdout",
     "output_type": "stream",
     "text": [
      "[('the', 742), ('and', 500), ('to', 434), ('I', 387), ('a', 365), ('was', 287), ('in', 186), ('is', 178), ('of', 177), ('for', 156)]\n"
     ]
    }
   ],
   "source": [
    "# get reviews for a random business \n",
    "random_business = reviews.sample(random_state=93)\n",
    "random_business_id = random_business.iloc[0]['business_id']\n",
    "small_business_dataset = reviews.loc[reviews['business_id'] == random_business_id]\n",
    "\n",
    "# convert the reviews into a concatenated string \n",
    "small_business_dataset_reviews = list(small_business_dataset['text'])\n",
    "b2_review = ''.join(small_business_dataset_reviews)\n",
    "clean_review = re.sub(r\"[^A-Za-z0-9\\s]+\", \"\", b2_review)\n",
    "b2_review = nlp(clean_review)\n",
    "\n",
    "# removed punctuation and get the top 10 most common words (including stopwords)\n",
    "b2_review_words = [token.text for token in b2_review if token.is_alpha == True] \n",
    "b2_word_freq = Counter(b2_review_words)\n",
    "b2_common_words = b2_word_freq.most_common(10)\n",
    "print(b2_common_words)"
   ]
  },
  {
   "cell_type": "code",
   "execution_count": 15,
   "id": "1473f8d5",
   "metadata": {},
   "outputs": [
    {
     "name": "stdout",
     "output_type": "stream",
     "text": [
      "[('hotel', 125), ('room', 115), ('nt', 108), ('airport', 74), ('stay', 73), ('staff', 60), ('shuttle', 56), ('breakfast', 54), ('night', 54), ('Hampton', 52)]\n"
     ]
    }
   ],
   "source": [
    "# removed punctuation and get the top 10 most common words (excluding stopwords)\n",
    "b2_review_words = [token.text for token in b2_review if token.is_stop != True and token.is_alpha == True] \n",
    "b2_word_freq = Counter(b2_review_words)\n",
    "b2_common_words_nsw = b2_word_freq.most_common(10)\n",
    "print(b2_common_words_nsw)"
   ]
  },
  {
   "cell_type": "code",
   "execution_count": 16,
   "id": "19d1c0c5",
   "metadata": {},
   "outputs": [
    {
     "data": {
      "image/png": "[encoded data removed]",
      "text/plain": [
       "<Figure size 432x288 with 1 Axes>"
      ]
     },
     "metadata": {
      "needs_background": "light"
     },
     "output_type": "display_data"
    }
   ],
   "source": [
    "# log graph before stemming\n",
    "df = pd.DataFrame(b1_word_freq.items(), columns=['word', 'count'])\n",
    "df = df.sort_values(by=['count'], ascending=False)\n",
    "\n",
    "ticks = [1, 10, 100]\n",
    "figure = sns.lineplot(data=df, x='word', y='count')\n",
    "figure.set_yscale(\"log\") \n",
    "figure.set_yticks(ticks)\n",
    "figure.set_yticklabels(ticks)\n",
    "figure.set_xticks([])\n",
    "figure.set_xticklabels([])\n",
    "figure.set_xlabel('Words')\n",
    "figure.set_ylabel('Counts')\n",
    "figure.set_title(\"Business 2 Word Counts Before Stemming (log scale)\")\n",
    "\n",
    "fig = figure.get_figure()\n",
    "fig.savefig(\"figures/b2_freq_before_stemming\") "
   ]
  },
  {
   "cell_type": "code",
   "execution_count": 17,
   "id": "3475a40b",
   "metadata": {},
   "outputs": [
    {
     "name": "stdout",
     "output_type": "stream",
     "text": [
      "[('room', 150), ('hotel', 149), ('stay', 113), ('nt', 108), ('airport', 78), ('staff', 67), ('breakfast', 61), ('shuttl', 61), ('night', 60), ('clean', 59)]\n"
     ]
    }
   ],
   "source": [
    "# Using Porter Stemmer\n",
    "porter_stemmed_words = [porter_st.stem(word) for word in b2_review_words]\n",
    "porter_freq = Counter(porter_stemmed_words)\n",
    "b2_porter_common_nsw = porter_freq.most_common(10)\n",
    "print(b2_porter_common_nsw)"
   ]
  },
  {
   "cell_type": "code",
   "execution_count": 18,
   "id": "8a42919e",
   "metadata": {},
   "outputs": [
    {
     "data": {
      "image/png": "[encoded data removed]",
      "text/plain": [
       "<Figure size 432x288 with 1 Axes>"
      ]
     },
     "metadata": {
      "needs_background": "light"
     },
     "output_type": "display_data"
    }
   ],
   "source": [
    "# log graph after stemming (porter stemmer)\n",
    "df = pd.DataFrame(porter_freq.items(), columns=['word', 'count'])\n",
    "df = df.sort_values(by=['count'], ascending=False)\n",
    "\n",
    "ticks = [1, 10, 100]\n",
    "figure = sns.lineplot(data=df, x='word', y='count')\n",
    "figure.set_yscale(\"log\") \n",
    "figure.set_yticks(ticks)\n",
    "figure.set_yticklabels(ticks)\n",
    "figure.set_xticks([])\n",
    "figure.set_xticklabels([])\n",
    "figure.set_xlabel('Words')\n",
    "figure.set_ylabel('Counts')\n",
    "figure.set_title(\"Business 2 Word Counts After Stemming (log scale)\")\n",
    "\n",
    "fig = figure.get_figure()\n",
    "fig.savefig(\"figures/b2_freq_after_stemming\") "
   ]
  },
  {
   "cell_type": "code",
   "execution_count": 19,
   "id": "34d8d79d",
   "metadata": {},
   "outputs": [
    {
     "name": "stdout",
     "output_type": "stream",
     "text": [
      "[('room', 151), ('hotel', 150), ('stay', 114), ('nt', 108), ('airport', 78), ('staff', 67), ('cle', 65), ('night', 61), ('breakfast', 61), ('shuttl', 61)]\n"
     ]
    }
   ],
   "source": [
    "# Using Lancaster Stemmer\n",
    "lancaster_stemmed_words = [lancaster_st.stem(word) for word in b2_review_words]\n",
    "lancaster_freq = Counter(lancaster_stemmed_words)\n",
    "lancaster_common = lancaster_freq.most_common(10)\n",
    "print(lancaster_common)"
   ]
  },
  {
   "cell_type": "code",
   "execution_count": 20,
   "id": "1ba031da",
   "metadata": {},
   "outputs": [
    {
     "name": "stdout",
     "output_type": "stream",
     "text": [
      "[('room', 150), ('hotel', 149), ('stay', 113), ('nt', 108), ('airport', 78), ('staff', 67), ('night', 61), ('breakfast', 61), ('shuttl', 61), ('clean', 59)]\n"
     ]
    }
   ],
   "source": [
    "# Using Snowball Stemmer\n",
    "snow_stemmed_words = [snow_st.stem(word) for word in b2_review_words]\n",
    "snow_freq = Counter(snow_stemmed_words)\n",
    "snow_common = snow_freq.most_common(10)\n",
    "print(snow_common)"
   ]
  },
  {
   "cell_type": "code",
   "execution_count": 21,
   "id": "e40e519d",
   "metadata": {},
   "outputs": [
    {
     "data": {
      "text/html": [
       "<div>\n",
       "<style scoped>\n",
       "    .dataframe tbody tr th:only-of-type {\n",
       "        vertical-align: middle;\n",
       "    }\n",
       "\n",
       "    .dataframe tbody tr th {\n",
       "        vertical-align: top;\n",
       "    }\n",
       "\n",
       "    .dataframe thead th {\n",
       "        text-align: right;\n",
       "    }\n",
       "</style>\n",
       "<table border=\"1\" class=\"dataframe\">\n",
       "  <thead>\n",
       "    <tr style=\"text-align: right;\">\n",
       "      <th></th>\n",
       "      <th>b1_common</th>\n",
       "      <th>b1_common_stemmed</th>\n",
       "      <th>b2_common</th>\n",
       "      <th>b2_common_stemmed</th>\n",
       "    </tr>\n",
       "  </thead>\n",
       "  <tbody>\n",
       "    <tr>\n",
       "      <th>0</th>\n",
       "      <td>(food, 87)</td>\n",
       "      <td>(food, 88)</td>\n",
       "      <td>(hotel, 125)</td>\n",
       "      <td>(room, 150)</td>\n",
       "    </tr>\n",
       "    <tr>\n",
       "      <th>1</th>\n",
       "      <td>(nt, 86)</td>\n",
       "      <td>(julep, 87)</td>\n",
       "      <td>(room, 115)</td>\n",
       "      <td>(hotel, 149)</td>\n",
       "    </tr>\n",
       "    <tr>\n",
       "      <th>2</th>\n",
       "      <td>(good, 78)</td>\n",
       "      <td>(nt, 86)</td>\n",
       "      <td>(nt, 108)</td>\n",
       "      <td>(stay, 113)</td>\n",
       "    </tr>\n",
       "    <tr>\n",
       "      <th>3</th>\n",
       "      <td>(Julep, 64)</td>\n",
       "      <td>(good, 80)</td>\n",
       "      <td>(airport, 74)</td>\n",
       "      <td>(nt, 108)</td>\n",
       "    </tr>\n",
       "    <tr>\n",
       "      <th>4</th>\n",
       "      <td>(chicken, 55)</td>\n",
       "      <td>(great, 60)</td>\n",
       "      <td>(stay, 73)</td>\n",
       "      <td>(airport, 78)</td>\n",
       "    </tr>\n",
       "    <tr>\n",
       "      <th>5</th>\n",
       "      <td>(grits, 52)</td>\n",
       "      <td>(chicken, 59)</td>\n",
       "      <td>(staff, 60)</td>\n",
       "      <td>(staff, 67)</td>\n",
       "    </tr>\n",
       "    <tr>\n",
       "      <th>6</th>\n",
       "      <td>(great, 50)</td>\n",
       "      <td>(order, 57)</td>\n",
       "      <td>(shuttle, 56)</td>\n",
       "      <td>(breakfast, 61)</td>\n",
       "    </tr>\n",
       "    <tr>\n",
       "      <th>7</th>\n",
       "      <td>(place, 48)</td>\n",
       "      <td>(grit, 56)</td>\n",
       "      <td>(breakfast, 54)</td>\n",
       "      <td>(shuttl, 61)</td>\n",
       "    </tr>\n",
       "    <tr>\n",
       "      <th>8</th>\n",
       "      <td>(shrimp, 45)</td>\n",
       "      <td>(place, 53)</td>\n",
       "      <td>(night, 54)</td>\n",
       "      <td>(night, 60)</td>\n",
       "    </tr>\n",
       "    <tr>\n",
       "      <th>9</th>\n",
       "      <td>(like, 42)</td>\n",
       "      <td>(shrimp, 52)</td>\n",
       "      <td>(Hampton, 52)</td>\n",
       "      <td>(clean, 59)</td>\n",
       "    </tr>\n",
       "  </tbody>\n",
       "</table>\n",
       "</div>"
      ],
      "text/plain": [
       "       b1_common b1_common_stemmed        b2_common b2_common_stemmed\n",
       "0     (food, 87)        (food, 88)     (hotel, 125)       (room, 150)\n",
       "1       (nt, 86)       (julep, 87)      (room, 115)      (hotel, 149)\n",
       "2     (good, 78)          (nt, 86)        (nt, 108)       (stay, 113)\n",
       "3    (Julep, 64)        (good, 80)    (airport, 74)         (nt, 108)\n",
       "4  (chicken, 55)       (great, 60)       (stay, 73)     (airport, 78)\n",
       "5    (grits, 52)     (chicken, 59)      (staff, 60)       (staff, 67)\n",
       "6    (great, 50)       (order, 57)    (shuttle, 56)   (breakfast, 61)\n",
       "7    (place, 48)        (grit, 56)  (breakfast, 54)      (shuttl, 61)\n",
       "8   (shrimp, 45)       (place, 53)      (night, 54)       (night, 60)\n",
       "9     (like, 42)      (shrimp, 52)    (Hampton, 52)       (clean, 59)"
      ]
     },
     "execution_count": 21,
     "metadata": {},
     "output_type": "execute_result"
    }
   ],
   "source": [
    "common_words_df = pd.DataFrame(\n",
    "    [\n",
    "        b1_common_words_nsw,\n",
    "        b1_porter_common_nsw,\n",
    "        b2_common_words_nsw,\n",
    "        b2_porter_common_nsw\n",
    "    ]\n",
    ")\n",
    "common_words_df = common_words_df.transpose()\n",
    "common_words_df.columns = ['b1_common', \n",
    "                           'b1_common_stemmed', \n",
    "                           'b2_common', \n",
    "                           'b2_common_stemmed']\n",
    "common_words_df.to_csv(\"common_words.csv\")\n",
    "common_words_df"
   ]
  },
  {
   "cell_type": "markdown",
   "id": "3d84d3b2",
   "metadata": {},
   "source": [
    "### POS Tagging"
   ]
  },
  {
   "cell_type": "code",
   "execution_count": 22,
   "id": "f24a5413",
   "metadata": {},
   "outputs": [],
   "source": [
    "random_sentences = list(reviews['text'])"
   ]
  },
  {
   "cell_type": "code",
   "execution_count": 23,
   "id": "fea10517",
   "metadata": {},
   "outputs": [],
   "source": [
    "sentence_tokenized = [sent_tokenize(string) for string in random_sentences]\n",
    "sentence_tokenized = [string for sublist in sentence_tokenized for string in sublist]"
   ]
  },
  {
   "cell_type": "code",
   "execution_count": 24,
   "id": "a4af1db8",
   "metadata": {},
   "outputs": [
    {
     "data": {
      "text/plain": [
       "['I hear their Mac and cheese is good but have not tried it myself.',\n",
       " 'however the food was good.',\n",
       " 'MSG is a HUGE TURNOFF for me in foods!',\n",
       " 'They give you this huge takeout box, which lends to the disappointment when you open it to discover a half-anemic tamale.',\n",
       " 'It would be a great place to watch the games on the weekends if they add a few TVs.']"
      ]
     },
     "execution_count": 24,
     "metadata": {},
     "output_type": "execute_result"
    }
   ],
   "source": [
    "chosen_sentences = random.sample(sentence_tokenized, 5)\n",
    "chosen_sentences"
   ]
  },
  {
   "cell_type": "code",
   "execution_count": 25,
   "id": "51e4b7a1",
   "metadata": {},
   "outputs": [
    {
     "name": "stdout",
     "output_type": "stream",
     "text": [
      "I        PRON  \n",
      "hear     VERB  \n",
      "their    DET   \n",
      "Mac      PROPN \n",
      "and      CCONJ \n",
      "cheese   NOUN  \n",
      "is       AUX   \n",
      "good     ADJ   \n",
      "but      CCONJ \n",
      "have     AUX   \n",
      "not      PART  \n",
      "tried    VERB  \n",
      "it       PRON  \n",
      "myself   PRON  \n",
      ".        PUNCT \n",
      "however  ADV   \n",
      "the      DET   \n",
      "food     NOUN  \n",
      "was      AUX   \n",
      "good     ADJ   \n",
      ".        PUNCT \n",
      "MSG      PROPN \n",
      "is       AUX   \n",
      "a        DET   \n",
      "HUGE     PROPN \n",
      "TURNOFF  PROPN \n",
      "for      ADP   \n",
      "me       PRON  \n",
      "in       ADP   \n",
      "foods    NOUN  \n",
      "!        PUNCT \n",
      "They     PRON  \n",
      "give     VERB  \n",
      "you      PRON  \n",
      "this     DET   \n",
      "huge     ADJ   \n",
      "takeout  NOUN  \n",
      "box      NOUN  \n",
      ",        PUNCT \n",
      "which    DET   \n",
      "lends    VERB  \n",
      "to       ADP   \n",
      "the      DET   \n",
      "disappointment NOUN  \n",
      "when     ADV   \n",
      "you      PRON  \n",
      "open     VERB  \n",
      "it       PRON  \n",
      "to       PART  \n",
      "discover VERB  \n",
      "a        DET   \n",
      "half     ADJ   \n",
      "-        PUNCT \n",
      "anemic   ADJ   \n",
      "tamale   NOUN  \n",
      ".        PUNCT \n",
      "It       PRON  \n",
      "would    VERB  \n",
      "be       AUX   \n",
      "a        DET   \n",
      "great    ADJ   \n",
      "place    NOUN  \n",
      "to       PART  \n",
      "watch    VERB  \n",
      "the      DET   \n",
      "games    NOUN  \n",
      "on       ADP   \n",
      "the      DET   \n",
      "weekends NOUN  \n",
      "if       SCONJ \n",
      "they     PRON  \n",
      "add      VERB  \n",
      "a        DET   \n",
      "few      ADJ   \n",
      "TVs      NOUN  \n",
      ".        PUNCT \n"
     ]
    }
   ],
   "source": [
    "spacy_tagged = []\n",
    "for sentence in chosen_sentences:\n",
    "    spacy_tagged.append(nlp(sentence))\n",
    "for tagged in spacy_tagged:\n",
    "    for token in tagged:\n",
    "        print(f'{token.text:{8}} {token.pos_:{6}}')"
   ]
  },
  {
   "cell_type": "code",
   "execution_count": 36,
   "id": "05945ccb",
   "metadata": {
    "scrolled": true
   },
   "outputs": [
    {
     "data": {
      "text/plain": [
       "11382"
      ]
     },
     "execution_count": 36,
     "metadata": {},
     "output_type": "execute_result"
    }
   ],
   "source": [
    "from spacy import displacy\n",
    "svg = displacy.render(spacy_tagged[0], style=\"dep\", jupyter=False)\n",
    "\n",
    "output_path = Path(\"figures/dependency_plot_0.svg\")\n",
    "output_path.open(\"w\", encoding=\"utf-8\").write(svg)"
   ]
  },
  {
   "cell_type": "code",
   "execution_count": 37,
   "id": "58bd5be3",
   "metadata": {},
   "outputs": [
    {
     "data": {
      "text/plain": [
       "3849"
      ]
     },
     "execution_count": 37,
     "metadata": {},
     "output_type": "execute_result"
    }
   ],
   "source": [
    "svg = displacy.render(spacy_tagged[1], style=\"dep\", jupyter=False)\n",
    "output_path = Path(\"figures/dependency_plot_1.svg\")\n",
    "output_path.open(\"w\", encoding=\"utf-8\").write(svg)"
   ]
  },
  {
   "cell_type": "code",
   "execution_count": 42,
   "id": "2368f275",
   "metadata": {},
   "outputs": [
    {
     "data": {
      "text/plain": [
       "7189"
      ]
     },
     "execution_count": 42,
     "metadata": {},
     "output_type": "execute_result"
    }
   ],
   "source": [
    "svg = displacy.render(spacy_tagged[2], style=\"dep\", jupyter=False)\n",
    "output_path = Path(\"figures/dependency_plot_2.svg\")\n",
    "output_path.open(\"w\", encoding=\"utf-8\").write(svg)"
   ]
  },
  {
   "cell_type": "code",
   "execution_count": 40,
   "id": "3f4db836",
   "metadata": {},
   "outputs": [
    {
     "data": {
      "text/plain": [
       "18093"
      ]
     },
     "execution_count": 40,
     "metadata": {},
     "output_type": "execute_result"
    }
   ],
   "source": [
    "svg = displacy.render(spacy_tagged[3], style=\"dep\", jupyter=False)\n",
    "output_path = Path(\"figures/dependency_plot_3.svg\")\n",
    "output_path.open(\"w\", encoding=\"utf-8\").write(svg)"
   ]
  },
  {
   "cell_type": "code",
   "execution_count": 41,
   "id": "0d48bcee",
   "metadata": {},
   "outputs": [
    {
     "data": {
      "text/plain": [
       "15539"
      ]
     },
     "execution_count": 41,
     "metadata": {},
     "output_type": "execute_result"
    }
   ],
   "source": [
    "svg = displacy.render(spacy_tagged[4], style=\"dep\", jupyter=False)\n",
    "output_path = Path(\"figures/dependency_plot_4.svg\")\n",
    "output_path.open(\"w\", encoding=\"utf-8\").write(svg)"
   ]
  },
  {
   "cell_type": "code",
   "execution_count": null,
   "id": "04c0da5d",
   "metadata": {},
   "outputs": [],
   "source": []
  }
 ],
 "metadata": {
  "interpreter": {
   "hash": "196df3e58747ae8acd38029975b3d483b376893af6f41692359fd189817b4e4f"
  },
  "kernelspec": {
   "display_name": "Python 3 (ipykernel)",
   "language": "python",
   "name": "python3"
  },
  "language_info": {
   "codemirror_mode": {
    "name": "ipython",
    "version": 3
   },
   "file_extension": ".py",
   "mimetype": "text/x-python",
   "name": "python",
   "nbconvert_exporter": "python",
   "pygments_lexer": "ipython3",
   "version": "3.9.7"
  }
 },
 "nbformat": 4,
 "nbformat_minor": 5
}
